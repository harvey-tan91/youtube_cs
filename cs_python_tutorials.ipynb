{
 "cells": [
  {
   "source": [
    "# Custom Exception"
   ],
   "cell_type": "markdown",
   "metadata": {}
  },
  {
   "cell_type": "code",
   "execution_count": 11,
   "metadata": {},
   "outputs": [
    {
     "output_type": "error",
     "ename": "NameTooShortError",
     "evalue": "Name -- sd, is too short. Minimum lenght is 10",
     "traceback": [
      "\u001b[1;31m---------------------------------------------------------------------------\u001b[0m",
      "\u001b[1;31mNameTooShortError\u001b[0m                         Traceback (most recent call last)",
      "\u001b[1;32m&lt;ipython-input-11-68727d2b1fa4&gt;\u001b[0m in \u001b[0;36m&lt;module&gt;\u001b[1;34m\u001b[0m\n\u001b[0;32m      4\u001b[0m     \u001b[1;32mif\u001b[0m \u001b[0mlen\u001b[0m\u001b[1;33m(\u001b[0m\u001b[0mname\u001b[0m\u001b[1;33m)\u001b[0m \u001b[1;33m&lt;\u001b[0m \u001b[1;36m10\u001b[0m\u001b[1;33m:\u001b[0m\u001b[1;33m\u001b[0m\u001b[1;33m\u001b[0m\u001b[0m\n\u001b[0;32m      5\u001b[0m         \u001b[1;32mraise\u001b[0m \u001b[0mNameTooShortError\u001b[0m\u001b[1;33m(\u001b[0m\u001b[1;34mf&#39;Name -- {name}, is too short. Minimum lenght is 10&#39;\u001b[0m\u001b[1;33m)\u001b[0m\u001b[1;33m\u001b[0m\u001b[1;33m\u001b[0m\u001b[0m\n\u001b[1;32m----&gt; 6\u001b[1;33m \u001b[0mvalidate\u001b[0m\u001b[1;33m(\u001b[0m\u001b[1;34m&#39;sd&#39;\u001b[0m\u001b[1;33m)\u001b[0m\u001b[1;33m\u001b[0m\u001b[1;33m\u001b[0m\u001b[0m\n\u001b[0m",
      "\u001b[1;32m&lt;ipython-input-11-68727d2b1fa4&gt;\u001b[0m in \u001b[0;36mvalidate\u001b[1;34m(name)\u001b[0m\n\u001b[0;32m      3\u001b[0m \u001b[1;32mdef\u001b[0m \u001b[0mvalidate\u001b[0m\u001b[1;33m(\u001b[0m\u001b[0mname\u001b[0m\u001b[1;33m)\u001b[0m\u001b[1;33m:\u001b[0m\u001b[1;33m\u001b[0m\u001b[1;33m\u001b[0m\u001b[0m\n\u001b[0;32m      4\u001b[0m     \u001b[1;32mif\u001b[0m \u001b[0mlen\u001b[0m\u001b[1;33m(\u001b[0m\u001b[0mname\u001b[0m\u001b[1;33m)\u001b[0m \u001b[1;33m&lt;\u001b[0m \u001b[1;36m10\u001b[0m\u001b[1;33m:\u001b[0m\u001b[1;33m\u001b[0m\u001b[1;33m\u001b[0m\u001b[0m\n\u001b[1;32m----&gt; 5\u001b[1;33m         \u001b[1;32mraise\u001b[0m \u001b[0mNameTooShortError\u001b[0m\u001b[1;33m(\u001b[0m\u001b[1;34mf&#39;Name -- {name}, is too short. Minimum lenght is 10&#39;\u001b[0m\u001b[1;33m)\u001b[0m\u001b[1;33m\u001b[0m\u001b[1;33m\u001b[0m\u001b[0m\n\u001b[0m\u001b[0;32m      6\u001b[0m \u001b[0mvalidate\u001b[0m\u001b[1;33m(\u001b[0m\u001b[1;34m&#39;sd&#39;\u001b[0m\u001b[1;33m)\u001b[0m\u001b[1;33m\u001b[0m\u001b[1;33m\u001b[0m\u001b[0m\n",
      "\u001b[1;31mNameTooShortError\u001b[0m: Name -- sd, is too short. Minimum lenght is 10"
     ]
    }
   ],
   "source": [
    "class NameTooShortError(ValueError): # here we create a sub class of the parent class object - ValueError\n",
    "    pass\n",
    "def validate(name):\n",
    "    if len(name) < 10:\n",
    "        raise NameTooShortError(f'Name -- {name}, is too short. Minimum lenght is 10')\n",
    "validate('sd')"
   ]
  },
  {
   "source": [
    "# Type-Hinting"
   ],
   "cell_type": "markdown",
   "metadata": {}
  },
  {
   "cell_type": "code",
   "execution_count": null,
   "metadata": {},
   "outputs": [],
   "source": [
    "def add_this(a: int, b: int) -> int: # we are expecting a,b and the return value to be an integer\n",
    "    return a+b"
   ]
  },
  {
   "source": [
    "# Implicit Return Statement\n",
    "* Better to be explicit than implicit"
   ],
   "cell_type": "markdown",
   "metadata": {}
  },
  {
   "cell_type": "code",
   "execution_count": null,
   "metadata": {},
   "outputs": [],
   "source": [
    "def foo(value):\n",
    "    if value:\n",
    "        return value\n",
    "    else:\n",
    "        return None # this is an explicit return statement\n",
    "\n",
    "# both foo1 and foo2 have a implicit return statement for the else clause\n",
    "# both of the else clause return None\n",
    "\n",
    "def foo1(value):\n",
    "    if value:\n",
    "        return value\n",
    "    else:\n",
    "        return\n",
    "\n",
    "def foo2(value):\n",
    "    if value:\n",
    "        return value"
   ]
  },
  {
   "source": [
    "# *args & **kwargs\n",
    "* args allows you to pass in a varying number of positional arguments\n",
    "* args will return a TUPLE\n",
    "* Asterisk (*) denotes the unpacking operator and it denotes the args arguments\n",
    "***\n",
    "* kwargs is similar to *args, instead of position arguments, it accepts keyword arguments\n",
    "* kwargs will return a DICTIONARY\n",
    "* Double Asterisk (**) denotes the unpacking operator and it denotes the kwargs arguments\n",
    "***\n",
    "https://realpython.com/python-kwargs-and-args/\n",
    "***\n",
    "Order of arguements: Standard Agruments, *args, **kwargs"
   ],
   "cell_type": "markdown",
   "metadata": {}
  },
  {
   "cell_type": "code",
   "execution_count": 1,
   "metadata": {},
   "outputs": [],
   "source": [
    "def foo(x, *args, **kwargs):\n",
    "    print(x)\n",
    "    if args:\n",
    "        print(args)\n",
    "    if kwargs:\n",
    "        print(kwargs)"
   ]
  },
  {
   "cell_type": "code",
   "execution_count": 2,
   "metadata": {
    "tags": []
   },
   "outputs": [
    {
     "output_type": "stream",
     "name": "stdout",
     "text": [
      "hello\n(1, 2, 3, 4, 56, 8)\n{'key1': 'this is key1', 'key2': 'this is key 2'}\n"
     ]
    }
   ],
   "source": [
    "foo('hello', 1,2,3,4,56,8, key1='this is key1', key2='this is key 2')"
   ]
  },
  {
   "cell_type": "code",
   "execution_count": 16,
   "metadata": {
    "tags": []
   },
   "outputs": [
    {
     "output_type": "stream",
     "name": "stdout",
     "text": "1\n(2, 3, 4, 5, 6)\n"
    }
   ],
   "source": [
    "foo(1,2,3,4,5,6)"
   ]
  },
  {
   "cell_type": "code",
   "execution_count": 2,
   "metadata": {
    "tags": []
   },
   "outputs": [
    {
     "output_type": "stream",
     "name": "stdout",
     "text": [
      "('this', 'is', 'the', 'agruement', 'in', 'place')\n"
     ]
    }
   ],
   "source": [
    "def p_everything(*a):\n",
    "    print(a)\n",
    "p_everything('this','is','the','agruement','in','place')"
   ]
  },
  {
   "source": [
    "# Unpacking - Asterisk (*)\n",
    "* unpacking work on any iterable"
   ],
   "cell_type": "markdown",
   "metadata": {}
  },
  {
   "cell_type": "code",
   "execution_count": 3,
   "metadata": {
    "tags": []
   },
   "outputs": [
    {
     "output_type": "stream",
     "name": "stdout",
     "text": [
      "s t r i n g\n\n10 20 30\n\n10 20 30\n\n10 20 30\n"
     ]
    }
   ],
   "source": [
    "s = 'string'\n",
    "print(*s)\n",
    "print()\n",
    "\n",
    "l = [10,20,30]\n",
    "print(*l)\n",
    "\n",
    "print()\n",
    "t = (10,20,30)\n",
    "print(*t)\n",
    "\n",
    "print()\n",
    "s = {10,20,30,10,20,30}\n",
    "print(*s)"
   ]
  },
  {
   "cell_type": "code",
   "execution_count": null,
   "metadata": {},
   "outputs": [],
   "source": [
    "def my_sum(a,b,c):\n",
    "    return (a+b+c)\n",
    "lst = [10,10,10]\n",
    "\n",
    "my_sum(*lst) # the function takes 3 parameters hence we need to unpack the list"
   ]
  },
  {
   "cell_type": "code",
   "execution_count": null,
   "metadata": {
    "tags": []
   },
   "outputs": [],
   "source": [
    "lst = [i for i in range(20)]\n",
    "a, b, *_ = lst\n",
    "print(a)\n",
    "print(b)"
   ]
  },
  {
   "cell_type": "code",
   "execution_count": 3,
   "metadata": {},
   "outputs": [
    {
     "output_type": "execute_result",
     "data": {
      "text/plain": [
       "[10, 20, 30, 40, 50, 60]"
      ]
     },
     "metadata": {},
     "execution_count": 3
    }
   ],
   "source": [
    "lst_x = [10,20,30]\n",
    "lst_y = [40,50,60]\n",
    "lst_z = [*lst_x, *lst_y] # we can use the unpacking operator to merge lists\n",
    "lst_z"
   ]
  },
  {
   "cell_type": "code",
   "execution_count": 4,
   "metadata": {},
   "outputs": [
    {
     "output_type": "execute_result",
     "data": {
      "text/plain": [
       "['R', 'e', 'a', 'l', 'P', 'y', 't', 'h', 'o', 'n']"
      ]
     },
     "metadata": {},
     "execution_count": 4
    }
   ],
   "source": [
    "*z_unpack, = 'RealPython' \n",
    "\n",
    "# * unpack the iterable\n",
    "# , the unpacked elements into a list\n",
    "\n",
    "z_unpack"
   ]
  },
  {
   "cell_type": "code",
   "execution_count": 1,
   "metadata": {},
   "outputs": [
    {
     "output_type": "execute_result",
     "data": {
      "text/plain": [
       "{'name': 'Harvey', 'age': '29', 'gender': 'Male', 'nationality': 'Singaporean'}"
      ]
     },
     "metadata": {},
     "execution_count": 1
    }
   ],
   "source": [
    "dict_a = dict(name='Harvey', age='29')\n",
    "dict_b = dict(gender='Male', nationality='Singaporean')\n",
    "\n",
    "dict_c = {**dict_a, **dict_b} # we can use the unpacking operator to merge dictionaries\n",
    "dict_c"
   ]
  },
  {
   "cell_type": "markdown",
   "metadata": {},
   "source": [
    "# Iterables and Iterators\n",
    "* An iterables is an object that you can loop over\n",
    "* An iterator is an object that has a state where it remembers its current state during the iteration process"
   ]
  },
  {
   "cell_type": "code",
   "execution_count": null,
   "metadata": {},
   "outputs": [],
   "source": [
    "lst = ['apple', 'orange', 'pear'] # this is an iterable\n",
    "x = iter(lst) # this is an iterator"
   ]
  },
  {
   "cell_type": "code",
   "execution_count": null,
   "metadata": {},
   "outputs": [],
   "source": [
    "next(x)"
   ]
  },
  {
   "cell_type": "code",
   "execution_count": null,
   "metadata": {
    "tags": []
   },
   "outputs": [],
   "source": [
    "# A for-loop create an iterator object\n",
    "# below is a high-level view of what happen when you create a for-loop\n",
    "num = [1,2,3]\n",
    "num_iter = iter(num)\n",
    "\n",
    "while True:\n",
    "    try:\n",
    "        item = next(num_iter)\n",
    "        print(item)\n",
    "    except StopIteration:\n",
    "        break"
   ]
  },
  {
   "cell_type": "code",
   "execution_count": null,
   "metadata": {},
   "outputs": [],
   "source": [
    "class myrange: # this is both an iterable and an iterator\n",
    "\n",
    "    def __init__(self, start, end):\n",
    "        self.value = start\n",
    "        self.end = end \n",
    "\n",
    "    def __iter__(self):\n",
    "        return self\n",
    "    \n",
    "    def __next__(self):\n",
    "        if self.value >= self.end:\n",
    "            raise StopIteration\n",
    "\n",
    "        current = self.value\n",
    "        self.value += 1\n",
    "        return current "
   ]
  },
  {
   "cell_type": "code",
   "execution_count": null,
   "metadata": {},
   "outputs": [],
   "source": [
    "nums = myrange(1,10)"
   ]
  },
  {
   "cell_type": "code",
   "execution_count": null,
   "metadata": {
    "tags": []
   },
   "outputs": [],
   "source": [
    "for nums in myrange(5,10):\n",
    "    print(nums)"
   ]
  },
  {
   "cell_type": "markdown",
   "metadata": {},
   "source": [
    "# Generators\n",
    "* A generator is a function that return an iterator object"
   ]
  },
  {
   "cell_type": "code",
   "execution_count": null,
   "metadata": {},
   "outputs": [],
   "source": [
    "def square_number(nums):\n",
    "    result = []\n",
    "    for i in nums:\n",
    "        result += [i]\n",
    "    return result "
   ]
  },
  {
   "cell_type": "code",
   "execution_count": 19,
   "metadata": {},
   "outputs": [],
   "source": [
    "def square_number_generators(nums): \n",
    "    for i in nums:\n",
    "        yield i*i # this will create a generator/iterator oject \n",
    "\n",
    "# Generator does not hold the entire result in memory\n",
    "# It yield one result at a time"
   ]
  },
  {
   "cell_type": "code",
   "execution_count": 20,
   "metadata": {
    "tags": []
   },
   "outputs": [
    {
     "output_type": "stream",
     "name": "stdout",
     "text": [
      "1\n400\n9\n1600\n25\n"
     ]
    }
   ],
   "source": [
    "my_lst = [1,20,3,40,5]\n",
    "\n",
    "my_lst_xxx = square_number_generators(my_lst) # this create a generator object and has not compute anything yet\n",
    "# my_lst_xxx is a generator \n",
    "my_lst_xxxx = square_number_generators(my_lst) \n",
    "\n",
    "print(next(my_lst_xxx)) # when it ask for the object, it will compute and return the result\n",
    "print(next(my_lst_xxx))\n",
    "print(next(my_lst_xxx))\n",
    "print(next(my_lst_xxx))\n",
    "print(next(my_lst_xxx))"
   ]
  },
  {
   "cell_type": "code",
   "execution_count": 21,
   "metadata": {
    "tags": []
   },
   "outputs": [
    {
     "output_type": "stream",
     "name": "stdout",
     "text": [
      "1\n400\n9\n1600\n25\n"
     ]
    }
   ],
   "source": [
    "for x in my_lst_xxxx:\n",
    "    print(x)"
   ]
  },
  {
   "cell_type": "code",
   "execution_count": null,
   "metadata": {
    "tags": []
   },
   "outputs": [],
   "source": [
    "# we can also create a generator object from list comprehension \n",
    "gen = (i*i for i in [1,2,3,4,5])\n",
    "print(gen)\n",
    "for i in gen:\n",
    "    print(i)"
   ]
  },
  {
   "cell_type": "markdown",
   "metadata": {},
   "source": [
    "# Equality vs  Identity\n",
    "* '==' checks for equality\n",
    "* 'is' checks for identity\n",
    "* 'is' checks if the assoicated items are the same in memory"
   ]
  },
  {
   "cell_type": "code",
   "execution_count": null,
   "metadata": {},
   "outputs": [],
   "source": [
    "list_1 = [1,2,3,4,5]\n",
    "list_2 = [1,2,3,4,5]\n",
    "\n",
    "list_3 = list_1"
   ]
  },
  {
   "cell_type": "code",
   "execution_count": null,
   "metadata": {
    "tags": []
   },
   "outputs": [],
   "source": [
    "print(True) if list_1 == list_2 else print(False)\n",
    "# == simply checks if the assoicated lists contain the same elements\n",
    "print('\\n')\n",
    "\n",
    "print(id(list_1))\n",
    "print(id(list_2))\n",
    "\n",
    "print('\\n')\n",
    "\n",
    "print(True) if list_1 is list_2 else print(False)"
   ]
  },
  {
   "cell_type": "code",
   "execution_count": null,
   "metadata": {
    "tags": []
   },
   "outputs": [],
   "source": [
    "print(True) if list_1 is list_2 else print(False)\n",
    "# 'is' checks if the assoicated lists are the same in memory \n",
    "\n",
    "print(id(list_1))\n",
    "print(id(list_2))"
   ]
  },
  {
   "cell_type": "code",
   "execution_count": null,
   "metadata": {
    "tags": []
   },
   "outputs": [],
   "source": [
    "print(True) if list_1 is list_3 else print(False)\n",
    "# 'is' checks if the assoicated lists are the same in memory \n",
    "\n",
    "print(id(list_1))\n",
    "print(id(list_3))"
   ]
  },
  {
   "cell_type": "code",
   "execution_count": null,
   "metadata": {
    "tags": []
   },
   "outputs": [],
   "source": [
    "s1 = 10\n",
    "s2 = 10\n",
    "print(id(s1))\n",
    "print(id(s2))\n",
    "\n",
    "print()\n",
    "\n",
    "w1 = 'word'\n",
    "w2 = 'word'\n",
    "print(id(w1))\n",
    "print(id(w2))"
   ]
  },
  {
   "cell_type": "markdown",
   "metadata": {},
   "source": [
    "# Mutable vs Immutable\n",
    "* An object is said to be immutable if its state cannot be modified after it is created\n",
    "* Immutable does not mean that we cannot reassigned the variable\n",
    "***\n",
    "* Immutable objects are objects with a fixed value. For example, string, integer and tuples are immutable\n",
    "* Mutable objects are objects that do not have a fixed value\n"
   ]
  },
  {
   "cell_type": "code",
   "execution_count": null,
   "metadata": {
    "tags": []
   },
   "outputs": [],
   "source": [
    "a = 'harvey' # string is immutable\n",
    "print(id(a))"
   ]
  },
  {
   "cell_type": "code",
   "execution_count": null,
   "metadata": {},
   "outputs": [],
   "source": [
    "a[0] = 'd'"
   ]
  },
  {
   "cell_type": "code",
   "execution_count": null,
   "metadata": {
    "tags": []
   },
   "outputs": [],
   "source": [
    "a = 'harvey_1'\n",
    "print(id(a))"
   ]
  },
  {
   "cell_type": "code",
   "execution_count": 24,
   "metadata": {
    "tags": []
   },
   "outputs": [
    {
     "output_type": "stream",
     "name": "stdout",
     "text": [
      "Address of output is 2581357284144\nAddress of output is 2581352260512\nAddress of output is 2581356758240\nAddress of output is 2581349230720\nAddress of output is 2581331314896\nAddress of output is 2581361521984\n\n\n<ul>\n\t<li>['Corey', 'John', 'Rick', 'Steve', 'Carl', 'Adam']</li>\n\t<li>['Corey', 'John', 'Rick', 'Steve', 'Carl', 'Adam']</li>\n\t<li>['Corey', 'John', 'Rick', 'Steve', 'Carl', 'Adam']</li>\n\t<li>['Corey', 'John', 'Rick', 'Steve', 'Carl', 'Adam']</li>\n\t<li>['Corey', 'John', 'Rick', 'Steve', 'Carl', 'Adam']</li>\n\t<li>['Corey', 'John', 'Rick', 'Steve', 'Carl', 'Adam']</li>\n</ul>\n"
     ]
    }
   ],
   "source": [
    "employees = ['Corey', 'John', 'Rick', 'Steve', 'Carl', 'Adam']\n",
    "\n",
    "output = '<ul>\\n' # this is a string object\n",
    "\n",
    "for employee in employees:\n",
    "    output += f'\\t<li>{employees}</li>\\n' \n",
    "    # each time we loop throught the list, we create a new string object and hence a new address \n",
    "    # if we are looping through thousands of elements, it will create thousands of string objects in memory\n",
    "    # hence we may be taking a performance hit if there are a huge amount of elements to loop through\n",
    "    \n",
    "    print(f'Address of output is {id(output)}')\n",
    "    \n",
    "output += '</ul>'\n",
    "\n",
    "print('\\n')\n",
    "print(output)"
   ]
  },
  {
   "source": [
    "# Memory Management in Python\n",
    "* A reference is a name or container object that points to another object\n"
   ],
   "cell_type": "markdown",
   "metadata": {}
  },
  {
   "cell_type": "code",
   "execution_count": null,
   "metadata": {},
   "outputs": [],
   "source": [
    "# 300 is an integer that is stored in memory once\n",
    "# reference count is the number of references that point to an object\n",
    "\n",
    "# the reference count to 300 is 4\n",
    "# the number of memory slot used by the object 300 is still one slot\n",
    "x = 300\n",
    "y = 300 \n",
    "z = [300, 300]"
   ]
  },
  {
   "cell_type": "markdown",
   "metadata": {},
   "source": [
    "# Idempotence\n",
    "* f(f(x)) = f(x)\n",
    "* An idempotent operation is one that has no additional effect if it is called more than once with the same input parameters"
   ]
  },
  {
   "cell_type": "code",
   "execution_count": null,
   "metadata": {
    "tags": []
   },
   "outputs": [],
   "source": [
    "add_ten = lambda x : x + 10\n",
    "print(add_ten(10))\n",
    "print(add_ten(add_ten(10)))"
   ]
  },
  {
   "cell_type": "code",
   "execution_count": null,
   "metadata": {},
   "outputs": [],
   "source": [
    "add_ten(add_ten(10)) == add_ten(10) # this is not idempotence"
   ]
  },
  {
   "cell_type": "code",
   "execution_count": null,
   "metadata": {},
   "outputs": [],
   "source": [
    "add_ten(10)"
   ]
  },
  {
   "cell_type": "code",
   "execution_count": null,
   "metadata": {},
   "outputs": [],
   "source": [
    "abs(abs(abs(-10))) == abs(10) # this is idempotence"
   ]
  },
  {
   "source": [
    "# For/While clause with Else clause"
   ],
   "cell_type": "markdown",
   "metadata": {}
  },
  {
   "cell_type": "code",
   "execution_count": null,
   "metadata": {
    "tags": []
   },
   "outputs": [],
   "source": [
    "lst = [1,2,3,4]\n",
    "for x in lst:\n",
    "    print(x)\n",
    "\n",
    "# when using else clause with a for loop or a while clause, think of the else clause as a no-break condition\n",
    "# if the break conditions are NOT invoked, then the else clause will be executed\n",
    "# if the break conditions are invoked, then the else clause will NOT be executed\n",
    "else: \n",
    "    print('PRINT OUT THIS STATEMENT')"
   ]
  },
  {
   "cell_type": "code",
   "execution_count": null,
   "metadata": {
    "tags": []
   },
   "outputs": [],
   "source": [
    "lst = [1,2,3,4]\n",
    "for x in lst:\n",
    "    print(x)\n",
    "    if x == 3:\n",
    "        break\n",
    "else: # if the break conditions are invoked, then the else clause will NOT be executed\n",
    "    print('PRINT OUT THIS STATEMENT')"
   ]
  },
  {
   "cell_type": "code",
   "execution_count": null,
   "metadata": {
    "tags": []
   },
   "outputs": [],
   "source": [
    "lst = [1,2,3,4]\n",
    "for x in lst:\n",
    "    print(x)\n",
    "    if x > 5:\n",
    "        break \n",
    "else: # if the break conditions are NOT invoked, then the else clause will be executed\n",
    "    print('PRINT OUT THIS STATEMENT')"
   ]
  },
  {
   "source": [
    "# Switch Case Statements\n",
    "* We can use dictionary to store keys where it represent the condition expression and value as the function to execute "
   ],
   "cell_type": "markdown",
   "metadata": {}
  },
  {
   "cell_type": "code",
   "execution_count": 1,
   "metadata": {
    "tags": []
   },
   "outputs": [
    {
     "output_type": "stream",
     "name": "stdout",
     "text": [
      "This is default handle\n"
     ]
    }
   ],
   "source": [
    "handle_a = lambda : print('This is handle a')\n",
    "handle_b = lambda : print('This is handle b')\n",
    "handle_default = lambda : print('This is default handle')\n",
    "\n",
    "cond = 'a'\n",
    "\n",
    "if cond == 'cond_a':\n",
    "    handle_a()\n",
    "elif cond == 'cond_b':\n",
    "    handle_b()\n",
    "else:\n",
    "    handle_default()"
   ]
  },
  {
   "cell_type": "code",
   "execution_count": 2,
   "metadata": {},
   "outputs": [
    {
     "output_type": "execute_result",
     "data": {
      "text/plain": [
       "30"
      ]
     },
     "metadata": {},
     "execution_count": 2
    }
   ],
   "source": [
    "add = lambda x,y : x + y\n",
    "list_of_functions = [add] # we can add functions into a list and call them\n",
    "list_of_functions[0](10,20)"
   ]
  },
  {
   "cell_type": "code",
   "execution_count": null,
   "metadata": {},
   "outputs": [],
   "source": [
    "function_dictionary = {\n",
    "        'cond_a' : handle_a,\n",
    "        'cond_b' : handle_b\n",
    "        } \n",
    "# the key is the condition and the value is the action\n",
    "\n",
    "cond = 'cond_a'\n",
    "function_dictionary.get(cond, handle_default)()"
   ]
  },
  {
   "cell_type": "code",
   "execution_count": null,
   "metadata": {
    "tags": []
   },
   "outputs": [],
   "source": [
    "ops_function = {\n",
    "                'add' : lambda x,y:x+y,\n",
    "                'sub' : lambda x,y:x-y,\n",
    "                'mul' : lambda x,y:x*y,\n",
    "                'div' : lambda x,y:x/y\n",
    "}\n",
    "ops_function['mul'](50,20)"
   ]
  },
  {
   "cell_type": "code",
   "execution_count": null,
   "metadata": {},
   "outputs": [],
   "source": [
    "def dispatch_dict(sign):\n",
    "    return {'add' : lambda x,y:x+y,\n",
    "            'sub' : lambda x,y:x-y,\n",
    "            'mul' : lambda x,y:x*y,\n",
    "            'div' : lambda x,y:x/y\n",
    "            }.get(sign, lambda:None)\n",
    "            \n",
    "dispatch_dict('add')(10,20)"
   ]
  },
  {
   "cell_type": "code",
   "execution_count": null,
   "metadata": {},
   "outputs": [],
   "source": [
    "operator_dict = {'add' : lambda x,y:x+y,\n",
    "                'sub' : lambda x,y:x-y,\n",
    "                'mul' : lambda x,y:x*y,\n",
    "                'div' : lambda x,y:x/y\n",
    "                }\n",
    "def dispatch_dict(sign):\n",
    "    return operator_dict.get(sign, lambda:None)\n",
    "\n",
    "dispatch_dict('add')(1,2)"
   ]
  },
  {
   "cell_type": "markdown",
   "metadata": {},
   "source": [
    "# Combinations and Permutations\n",
    "* Combinations are the different ways of arranging elements where the order does not matter\n",
    "* Permutations are the different ways of arranging elements where the order DOES matter"
   ]
  },
  {
   "cell_type": "code",
   "execution_count": 3,
   "metadata": {
    "tags": []
   },
   "outputs": [
    {
     "output_type": "stream",
     "name": "stdout",
     "text": [
      "6\n[(1, 2), (1, 3), (1, 4), (2, 3), (2, 4), (3, 4)]\n\n\n12\n[(1, 2), (1, 3), (1, 4), (2, 1), (2, 3), (2, 4), (3, 1), (3, 2), (3, 4), (4, 1), (4, 2), (4, 3)]\n"
     ]
    }
   ],
   "source": [
    "import itertools as it\n",
    "\n",
    "x = [i for i in range(1,5)]\n",
    "\n",
    "x_comb = list(it.combinations(x, 2))\n",
    "x_perm = list(it.permutations(x, 2))\n",
    "\n",
    "print(len(x_comb))\n",
    "print(x_comb)\n",
    "\n",
    "print('\\n')\n",
    "\n",
    "print(len(x_perm))\n",
    "print(x_perm)"
   ]
  },
  {
   "cell_type": "code",
   "execution_count": 4,
   "metadata": {
    "tags": []
   },
   "outputs": [
    {
     "output_type": "stream",
     "name": "stdout",
     "text": [
      "[(1, 4), (2, 3)]\n\n\n[(1, 4), (2, 3), (3, 2), (4, 1)]\n"
     ]
    }
   ],
   "source": [
    "# in this scenario, finding the different options of summing to 5, combination would be more appropriate \n",
    "print([i for i in x_comb if sum(i) == 5])\n",
    "print('\\n')\n",
    "print([i for i in x_perm if sum(i) == 5])"
   ]
  },
  {
   "cell_type": "code",
   "execution_count": null,
   "metadata": {
    "tags": []
   },
   "outputs": [],
   "source": [
    "x = 'king'\n",
    "\n",
    "word_input = 'gink'\n",
    "word_input_permu = list(it.permutations(word_input))\n",
    "\n",
    "counter = 0\n",
    "\n",
    "for p in word_input_permu:\n",
    "    if ''.join(p) == x:\n",
    "        print(f'Match Found. Found at the {counter}th permuataion')\n",
    "        break\n",
    "    else:\n",
    "        counter += 1\n",
    "        continue"
   ]
  },
  {
   "cell_type": "markdown",
   "metadata": {},
   "source": [
    "# Datetime\n",
    "* Navie datetime are date and time information where we do not have enough information to determine the timezone or daylight saving times\n",
    "* Aware datetime are date and time information that contain information on timezone and daylight saving"
   ]
  },
  {
   "cell_type": "code",
   "execution_count": 6,
   "metadata": {},
   "outputs": [],
   "source": [
    "import datetime"
   ]
  },
  {
   "cell_type": "markdown",
   "metadata": {},
   "source": [
    "# #1. DATE"
   ]
  },
  {
   "cell_type": "code",
   "execution_count": null,
   "metadata": {
    "tags": []
   },
   "outputs": [],
   "source": [
    "d = datetime.date(2020,6,1) # year, month, day\n",
    "print(d)\n",
    "\n",
    "print('\\n')\n",
    "t_day = datetime.date.today()\n",
    "print(t_day)\n",
    "print(t_day.weekday()) # Monday 0 Sunday 6\n",
    "print(t_day.isoweekday()) # Monday 1 Sunday 7"
   ]
  },
  {
   "cell_type": "code",
   "execution_count": null,
   "metadata": {
    "tags": []
   },
   "outputs": [],
   "source": [
    "t_delta = datetime.timedelta(days=7)\n",
    "print(datetime.date.today() + t_delta) # one week from today\n",
    "print(datetime.date.today() - t_delta) # one week ago"
   ]
  },
  {
   "cell_type": "code",
   "execution_count": null,
   "metadata": {
    "tags": []
   },
   "outputs": [],
   "source": [
    "# date_time_obj = date_time_obj + time_delta\n",
    "# time_delta = date_time_obj_1 +/- date_time_obj_2\n",
    "print(type(t_day - t_delta)) # the result is a date obj\n",
    "print(type(t_day - d)) # the result is a timedelta obj"
   ]
  },
  {
   "cell_type": "code",
   "execution_count": null,
   "metadata": {
    "tags": []
   },
   "outputs": [],
   "source": [
    "# Method on time_delta obj\n",
    "x = t_day - d\n",
    "print(x.days)\n",
    "print(x.total_seconds())"
   ]
  },
  {
   "cell_type": "markdown",
   "metadata": {},
   "source": [
    "# #2. Time"
   ]
  },
  {
   "cell_type": "code",
   "execution_count": null,
   "metadata": {
    "tags": []
   },
   "outputs": [],
   "source": [
    "t = datetime.time(9,30,45,10000) # hh, mm, ss, ms\n",
    "print(t)\n",
    "print(t.hour)"
   ]
  },
  {
   "cell_type": "markdown",
   "metadata": {},
   "source": [
    "# #3. Datetime"
   ]
  },
  {
   "cell_type": "code",
   "execution_count": 7,
   "metadata": {
    "tags": []
   },
   "outputs": [
    {
     "output_type": "stream",
     "name": "stdout",
     "text": [
      "2020-01-01 12:30:45.100000\n2020-01-01\n12:30:45.100000\n2020\n1\n1\n\n\n2020-01-03 00:30:45.100000\n"
     ]
    }
   ],
   "source": [
    "td = datetime.datetime(2020,1,1,12,30,45,100000) #yyyy mmm dd HH MM SS\n",
    "time_delta = datetime.timedelta(days=1,hours=12)\n",
    "print(td)\n",
    "print(td.date())\n",
    "print(td.time())\n",
    "print(td.year)\n",
    "print(td.month)\n",
    "print(td.day)\n",
    "print('\\n')\n",
    "print(td + time_delta)"
   ]
  },
  {
   "cell_type": "code",
   "execution_count": null,
   "metadata": {},
   "outputs": [],
   "source": [
    "print(datetime.datetime.today()) # returns the current local date time with a timezone of None\n",
    "print(datetime.datetime.now()) # this allows us to pass in a timezone\n",
    "print(datetime.datetime.utcnow()) # return the current UTC time but the timezone information is still set to None"
   ]
  },
  {
   "cell_type": "markdown",
   "metadata": {},
   "source": [
    "# EAFP (Ask for forgiveness rather than permission)"
   ]
  },
  {
   "cell_type": "code",
   "execution_count": null,
   "metadata": {
    "tags": []
   },
   "outputs": [],
   "source": [
    "# this is non-pythonic\n",
    "# the method below is a case of 'Look before you leap' or 'Asking for permission' \n",
    "person = {'name':'harvey', 'sex':'male', 'age':25}\n",
    "\n",
    "if 'name' in person and 'sex' in person and 'age' in person: # an if statement is eqivalent to asking for permission\n",
    "    print(f'Hello, my name is {person[\"name\"]}. I am a {person[\"sex\"]} and I am {person[\"age\"]} years old')\n",
    "else: \n",
    "    print('Missing some keys')"
   ]
  },
  {
   "cell_type": "code",
   "execution_count": null,
   "metadata": {
    "tags": []
   },
   "outputs": [],
   "source": [
    "# this is more pythonic \n",
    "# by trying to print out the desired result in the try clause and if it fails, go to the except clause \n",
    "# EAFP is like Nike, you just fucking do it\n",
    "\n",
    "person = {'name':'harvey', 'sex':'male'}\n",
    "try: \n",
    "    print(f'Hello, my name is {person[\"name\"]}. I am a {person[\"sex\"]} and I am {person[\"age\"]} years old')\n",
    "except KeyError as e:\n",
    "    print(f'You have missing {e} key')"
   ]
  },
  {
   "cell_type": "markdown",
   "metadata": {},
   "source": [
    "# 5 Common Mistakes to Python\n",
    "* if we named our python module to a name that is the same as the name of a standard module library that we are importing in our python module, it will encounter an import error\n",
    "* do not named a variable to the name of a class or special key word agruement or to standard function names\n",
    "* the default agruments of a function is executed only once when it is declared and NOT each time we call the function\n",
    "* do not use < from module import * > to import all the function \n",
    "\n",
    "**Iterator**\n",
    "* take note when you are using list(iterator), the second time you run, it will return []\n",
    "* iterator can be exhausted "
   ]
  },
  {
   "cell_type": "code",
   "execution_count": null,
   "metadata": {
    "tags": []
   },
   "outputs": [],
   "source": [
    "# the default agruments of a function is executed only once when it is declared and NOT each time we call the function\n",
    "from datetime import datetime\n",
    "import time\n",
    "def display_time(time=datetime.now()):\n",
    "    print(f'The time now is {time}')\n",
    "\n",
    "display_time()\n",
    "time.sleep(1)\n",
    "display_time()\n",
    "time.sleep(1) # notice that the timestampe is exactly the same"
   ]
  },
  {
   "cell_type": "code",
   "execution_count": null,
   "metadata": {
    "tags": []
   },
   "outputs": [],
   "source": [
    "from datetime import datetime\n",
    "import time\n",
    "def display_time(time=None): # the default value for the time parameters is None\n",
    "    if time is None: \n",
    "        time = datetime.now()\n",
    "    print(f'The time now is {time}')\n",
    "\n",
    "display_time()\n",
    "time.sleep(1)\n",
    "display_time()\n",
    "time.sleep(1) # notice that the timestamp is different"
   ]
  },
  {
   "cell_type": "code",
   "execution_count": null,
   "metadata": {
    "tags": []
   },
   "outputs": [],
   "source": [
    "lst_1 = ['Bruce Wayne', 'Peter Parker']\n",
    "lst_2 = ['Batman', 'Spiderman']\n",
    "\n",
    "x = zip(lst_1, lst_2)\n",
    "print(x)\n",
    "print(list(x)) # when pass the list keyword to a zip object which is an iterator, it will iterate over the iterator. Hence, exhausting the iterator\n",
    "\n",
    "# hence, when we loop over the iterator(x), it returns nothing becase it has already been exhausted\n",
    "for i in x:\n",
    "    print(i)\n",
    "print('\\n')\n",
    "\n",
    "print(list(x))"
   ]
  },
  {
   "cell_type": "code",
   "execution_count": null,
   "metadata": {},
   "outputs": [],
   "source": [
    "from pandas import * ### instead of import pandas as pd ###\n",
    "\n",
    "read_csv()\n",
    "date_range()\n",
    "\n",
    "# it can make debugging harder as the programmer will need search where the function is coming from when there is an error in the function\n",
    "# if there is any functions with the same name, the first module will get overwritten"
   ]
  },
  {
   "cell_type": "markdown",
   "metadata": {},
   "source": [
    "# File Objects - Reading and Writing to Files"
   ]
  },
  {
   "cell_type": "code",
   "execution_count": null,
   "metadata": {
    "tags": []
   },
   "outputs": [],
   "source": [
    "with open(r'sample_text.txt', 'r+') as datafile:\n",
    "\n",
    "    for line in datafile: # this is more memory efficient than # content = datafile.readlines() # as the loop does not load the content into memory whereas the former does\n",
    "        print(line, end=' ')"
   ]
  },
  {
   "cell_type": "code",
   "execution_count": null,
   "metadata": {},
   "outputs": [],
   "source": [
    "# we can loop throught the content specifying the number of characters to read in each iteration\n",
    "with open(r'sample_text.txt', 'r+') as datafile:\n",
    "    size_to_read = 100\n",
    "    content = datafile.read(size_to_read) # this will read the first 100 characters\n",
    "    while len(content) > 0:\n",
    "        print(content, end = '*')  \n",
    "        content = datafile.read(size_to_read) # this will request for the next 100 characters"
   ]
  },
  {
   "source": [
    "# Zip File"
   ],
   "cell_type": "markdown",
   "metadata": {}
  },
  {
   "cell_type": "code",
   "execution_count": 2,
   "metadata": {},
   "outputs": [],
   "source": [
    "import zipfile\n",
    "import os\n",
    "\n",
    "os.chdir(r'C:\\Users\\tanzh\\Documents\\Python\\cs channel')"
   ]
  },
  {
   "cell_type": "code",
   "execution_count": 9,
   "metadata": {},
   "outputs": [],
   "source": [
    "with zipfile.ZipFile('files.zip', 'w', compression=zipfile.ZIP_DEFLATED) as my_zip:\n",
    "    my_zip.write('sample_text.txt')\n",
    "    my_zip.write('sample_write.txt')"
   ]
  },
  {
   "cell_type": "code",
   "execution_count": 8,
   "metadata": {
    "tags": []
   },
   "outputs": [
    {
     "output_type": "stream",
     "name": "stdout",
     "text": "[&#39;sample_text.txt&#39;, &#39;sample_write.txt&#39;]\n"
    }
   ],
   "source": [
    "with zipfile.ZipFile('files.zip', 'r') as my_zip:\n",
    "    print(my_zip.namelist())\n",
    "    my_zip.extractall('my_folder') # this extract all the content from the zip file into the 'my_folder' folder"
   ]
  },
  {
   "cell_type": "code",
   "execution_count": 10,
   "metadata": {},
   "outputs": [],
   "source": [
    "with zipfile.ZipFile('files.zip', 'r') as my_zip:\n",
    "    my_zip.extract('sample_text.txt') # this extract a specific file into the cwd"
   ]
  },
  {
   "cell_type": "markdown",
   "metadata": {},
   "source": [
    "# Memoization\n",
    "* Memoization is an optimization technique used primarily to speed up computer programs by storing results of expensive function calls and return the cached result when the same inputs occurs again"
   ]
  },
  {
   "cell_type": "code",
   "execution_count": null,
   "metadata": {},
   "outputs": [],
   "source": [
    "import time\n",
    "\n",
    "ef_cache = {} # this is the cache, we defined a dictionary with key-value pair where the key is the input and the result is the value\n",
    "\n",
    "def expensive_function(num):\n",
    "\n",
    "    if num in ef_cache: # this check if the input is already is our cache\n",
    "        return ef_cache[num] \n",
    "    else:\n",
    "        print(f'computing {num}...')\n",
    "        time.sleep(1)\n",
    "        result = num * num\n",
    "        ef_cache[num] = result\n",
    "        return result"
   ]
  },
  {
   "cell_type": "markdown",
   "metadata": {},
   "source": [
    "# OS Module"
   ]
  },
  {
   "cell_type": "code",
   "execution_count": null,
   "metadata": {},
   "outputs": [],
   "source": [
    "import os\n",
    "os.chdir(r'C:\\Users\\tanzh\\Documents\\Python\\cs channel')"
   ]
  },
  {
   "cell_type": "code",
   "execution_count": null,
   "metadata": {
    "tags": []
   },
   "outputs": [],
   "source": [
    "print(os.getcwd())\n",
    "print('\\n')\n",
    "print(os.listdir()) # to list all the files in the directory"
   ]
  },
  {
   "cell_type": "code",
   "execution_count": null,
   "metadata": {},
   "outputs": [],
   "source": [
    "os.mkdir('Create this directory')\n",
    "os.mkdir('Create this directory1\\create this subfolder1\\create this sub folder2') # mkdir will produce an error if it cannot find the root folder"
   ]
  },
  {
   "cell_type": "code",
   "execution_count": null,
   "metadata": {},
   "outputs": [],
   "source": [
    "os.makedirs('Create this directory1\\create this subfolder1\\create this sub folder2') # this will create the necessary root folder"
   ]
  },
  {
   "cell_type": "code",
   "execution_count": null,
   "metadata": {
    "tags": []
   },
   "outputs": [],
   "source": [
    "# os.walk transverse throught the directory and generate a 3-tuple iterator with all the folders and sub folders specifications\n",
    "\n",
    "for path, dirname, filename in os.walk(os.getcwd()):\n",
    "    print(f'Current path : {path}')\n",
    "    print(f'Sub Folders : {dirname}')\n",
    "    print(f'Files : {filename}')\n",
    "    print('\\n')"
   ]
  },
  {
   "source": [
    "# Itertools"
   ],
   "cell_type": "markdown",
   "metadata": {}
  },
  {
   "cell_type": "code",
   "execution_count": 1,
   "metadata": {},
   "outputs": [],
   "source": [
    "import itertools"
   ]
  },
  {
   "cell_type": "code",
   "execution_count": 2,
   "metadata": {
    "tags": []
   },
   "outputs": [
    {
     "output_type": "stream",
     "name": "stdout",
     "text": [
      "[(5, 'apple'), (10, 'orange'), (15, 'pear')]\n"
     ]
    }
   ],
   "source": [
    "sample_lst = ['apple','orange','pear']\n",
    "\n",
    "counter = itertools.count(start=5, step=5)\n",
    "\n",
    "x = list(zip(counter, sample_lst))\n",
    "print(x)"
   ]
  },
  {
   "cell_type": "code",
   "execution_count": 22,
   "metadata": {
    "tags": []
   },
   "outputs": [
    {
     "output_type": "stream",
     "name": "stdout",
     "text": "[(&#39;apple&#39;, 0), (&#39;orange&#39;, 1), (&#39;pear&#39;, 2)]\n\n[(&#39;apple&#39;, 0), (&#39;orange&#39;, 1), (&#39;pear&#39;, 2), (None, 3), (None, 4), (None, 5), (None, 6), (None, 7), (None, 8), (None, 9)]\n"
    }
   ],
   "source": [
    "# zip ends after the shortest iterable ends\n",
    "a = ['apple', 'orange', 'pear']\n",
    "b = [i for i in range(10)]\n",
    "c = list(zip(a,b))\n",
    "print(c)\n",
    "print()\n",
    "\n",
    "# itertool.zip ends after the longest iterable ends\n",
    "l = itertools.zip_longest(a,b)\n",
    "print(list(l))"
   ]
  },
  {
   "cell_type": "code",
   "execution_count": 2,
   "metadata": {},
   "outputs": [
    {
     "output_type": "execute_result",
     "data": {
      "text/plain": [
       "[('red', 'apple'),\n",
       " ('blue', 'orange'),\n",
       " ('red', 'apple'),\n",
       " ('blue', 'orange'),\n",
       " ('red', 'apple'),\n",
       " ('blue', 'orange'),\n",
       " ('red', 'apple'),\n",
       " ('blue', 'orange'),\n",
       " ('red', 'apple'),\n",
       " ('blue', 'orange')]"
      ]
     },
     "metadata": {},
     "execution_count": 2
    }
   ],
   "source": [
    "counter = itertools.cycle(['red','blue'])\n",
    "lst = ['apple','orange'] * 5\n",
    "list(zip(counter, lst))"
   ]
  },
  {
   "cell_type": "markdown",
   "metadata": {},
   "source": [
    "# Logging\n",
    "<a id=\"python-basic-logging\"></a> \n",
    "\n",
    "* Logging level allows us to specify exactly what we want to log by seperating them into categories\n",
    "\n",
    "***\n",
    "\n",
    "* Categories = debug, info, warnming, error, critical\n",
    "* 1) DEBUG: Detailed information, typically of interest only when diagnosing problems.\n",
    "* 2) INFO: Confirmation that things are working as expected.\n",
    "* 3) WARNING: An indication that something unexpected happened, or indicative of some problem in the near future (e.g. ‘disk space low’). The software is still working as expected.\n",
    "* 4) ERROR: Due to a more serious problem, the software has not been able to perform some function.\n",
    "* 5) CRITICAL: A serious error, indicating that the program itself may be unable to continue running.\n",
    "\n",
    "***\n",
    "\n",
    "* The default level of logging is set to WARNING, hence anything above and equal to WARNING will be flagged which include WARNING, ERROR and CRITICAL"
   ]
  },
  {
   "cell_type": "code",
   "execution_count": null,
   "metadata": {},
   "outputs": [],
   "source": [
    "import logging\n",
    "import os\n",
    "os.chdir(r'C:\\Users\\tanzh\\Documents\\Python\\cs channel')"
   ]
  },
  {
   "cell_type": "code",
   "execution_count": null,
   "metadata": {
    "tags": []
   },
   "outputs": [],
   "source": [
    "for handler in logging.root.handlers[:]:\n",
    "    logging.root.removeHandler(handler)\n",
    "\n",
    "logging.basicConfig(filename='test.log', level=logging.DEBUG, format='%(asctime)s : %(levelname)s : %(message)s') \n",
    "\n",
    "# notice the word DEBUG is all caps and it is constant int in the background"
   ]
  },
  {
   "cell_type": "code",
   "execution_count": null,
   "metadata": {},
   "outputs": [],
   "source": [
    "add = lambda x, y : x + y\n",
    "minus = lambda x, y : x - y\n",
    "divide = lambda x, y : x / y\n",
    "multi = lambda x, y : x * y"
   ]
  },
  {
   "cell_type": "code",
   "execution_count": null,
   "metadata": {
    "tags": []
   },
   "outputs": [],
   "source": [
    "x, y = 10, 20\n",
    "\n",
    "add_result = add(x,y)\n",
    "print(f'Add : {x} + {y} = {add_result}')\n",
    "\n",
    "minus_result = minus(x,y)\n",
    "print(f'Add : {x} - {y} = {minus_result}')\n",
    "\n",
    "div_result = divide(x,y)\n",
    "print(f'Add : {x} / {y} = {div_result}')\n",
    "\n",
    "mul_result = multi(x,y)\n",
    "print(f'Add : {x} * {y} = {mul_result}')"
   ]
  },
  {
   "cell_type": "code",
   "execution_count": null,
   "metadata": {
    "tags": []
   },
   "outputs": [],
   "source": [
    "x, y = 10, 20\n",
    "\n",
    "add_result = add(x,y)\n",
    "logging.debug(f'Add : {x} + {y} = {add_result}')\n",
    "\n",
    "minus_result = minus(x,y)\n",
    "logging.debug(f'Add : {x} - {y} = {minus_result}')\n",
    "\n",
    "div_result = divide(x,y)\n",
    "logging.debug(f'Add : {x} / {y} = {div_result}')\n",
    "\n",
    "mul_result = multi(x,y)\n",
    "logging.debug(f'Add : {x} * {y} = {mul_result}')"
   ]
  },
  {
   "cell_type": "code",
   "execution_count": null,
   "metadata": {
    "tags": []
   },
   "outputs": [],
   "source": [
    "x, y = 30, 40\n",
    "\n",
    "add_result = add(x,y)\n",
    "logging.debug(f'Add : {x} + {y} = {add_result}')\n",
    "\n",
    "minus_result = minus(x,y)\n",
    "logging.debug(f'Add : {x} - {y} = {minus_result}')\n",
    "\n",
    "div_result = divide(x,y)\n",
    "logging.debug(f'Add : {x} / {y} = {div_result}')\n",
    "\n",
    "mul_result = multi(x,y)\n",
    "logging.debug(f'Add : {x} * {y} = {mul_result}')"
   ]
  },
  {
   "cell_type": "code",
   "execution_count": null,
   "metadata": {},
   "outputs": [],
   "source": []
  },
  {
   "cell_type": "code",
   "execution_count": null,
   "metadata": {},
   "outputs": [],
   "source": []
  },
  {
   "cell_type": "code",
   "execution_count": null,
   "metadata": {},
   "outputs": [],
   "source": []
  },
  {
   "cell_type": "code",
   "execution_count": null,
   "metadata": {},
   "outputs": [],
   "source": []
  },
  {
   "cell_type": "code",
   "execution_count": null,
   "metadata": {},
   "outputs": [],
   "source": []
  },
  {
   "cell_type": "code",
   "execution_count": null,
   "metadata": {},
   "outputs": [],
   "source": []
  },
  {
   "cell_type": "code",
   "execution_count": null,
   "metadata": {},
   "outputs": [],
   "source": []
  },
  {
   "cell_type": "code",
   "execution_count": null,
   "metadata": {},
   "outputs": [],
   "source": []
  },
  {
   "cell_type": "code",
   "execution_count": null,
   "metadata": {},
   "outputs": [],
   "source": []
  },
  {
   "cell_type": "code",
   "execution_count": null,
   "metadata": {},
   "outputs": [],
   "source": []
  },
  {
   "cell_type": "code",
   "execution_count": null,
   "metadata": {},
   "outputs": [],
   "source": []
  },
  {
   "cell_type": "code",
   "execution_count": null,
   "metadata": {},
   "outputs": [],
   "source": []
  },
  {
   "cell_type": "code",
   "execution_count": null,
   "metadata": {},
   "outputs": [],
   "source": []
  },
  {
   "cell_type": "code",
   "execution_count": null,
   "metadata": {},
   "outputs": [],
   "source": []
  }
 ],
 "metadata": {
  "kernelspec": {
   "display_name": "Python 3.7.4 64-bit ('base': conda)",
   "language": "python",
   "name": "python37464bitbaseconda6db2893f0e1b4b6ea66d23044bec9473"
  },
  "language_info": {
   "codemirror_mode": {
    "name": "ipython",
    "version": 3
   },
   "file_extension": ".py",
   "mimetype": "text/x-python",
   "name": "python",
   "nbconvert_exporter": "python",
   "pygments_lexer": "ipython3",
   "version": "3.8.3-final"
  }
 },
 "nbformat": 4,
 "nbformat_minor": 2
}