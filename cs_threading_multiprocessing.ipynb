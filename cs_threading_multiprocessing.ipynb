{
 "cells": [
  {
   "source": [
    "# Threading & Multi-processing\n",
    "**Threading**\n",
    "* When we run something concurrently in thread, it is not running the code at the same time\n",
    "* It just give the illusion of running the codes at the same time because when it comes to a point in time where it is waiting around, it will go ahead with the script and run other codes while the IO operations finish\n",
    "\n",
    "** **\n",
    "\n",
    "** CPU Bound**\n",
    "* CPU bound tasks are operation that are crunching a lot of numbers and data and using CPU resources to do so\n",
    "* If our tasks are CPU bound, we may not see a lot of benefits from threading\n",
    "* Instead for CPU bound task, we will see more benefits from multiprocessing and run it in parallel instead\n",
    "\n",
    "**IO Bound**\n",
    "* IO bound task are tasks that are waiting for input and output operations to be completed and not really using the CPU resources\n",
    "* Example of IO bound tasks are reading and writing from the file system, downloading materials from internet and other file system operations network\n",
    "* For IO bound task, we will see more benefits from threading rather than multiprocessing"
   ],
   "cell_type": "markdown",
   "metadata": {}
  },
  {
   "source": [
    "# #Threading"
   ],
   "cell_type": "markdown",
   "metadata": {}
  },
  {
   "cell_type": "code",
   "execution_count": 2,
   "metadata": {},
   "outputs": [],
   "source": [
    "import threading\n",
    "import concurrent.futures\n",
    "import requests\n",
    "import os\n",
    "from timeit import default_timer as timer"
   ]
  },
  {
   "source": [
    "**Threading**\n",
    "* When we run something concurrently in thread, it is not running the code at the same time\n",
    "* It just give the illusion of running the codes at the same time because when it comes to a point in time where it is waiting around, it will go ahead with the script and run other codes while the IO operations finish\n",
    "\n",
    "** **\n",
    "\n",
    "** CPU Bound**\n",
    "* CPU bound tasks are operation that are crunching a lot of numbers and data and using CPU resources to do so\n",
    "* If our tasks are CPU bound, we may not see a lot of benefits from threading\n",
    "* Instead for CPU bound task, we will see more benefits from multiprocessing and run it in parallel instead\n",
    "\n",
    "**IO Bound**\n",
    "* IO bound task are tasks that are waiting for input and output operations to be completed and not really using the CPU resources\n",
    "* Example of IO bound tasks are reading and writing from the file system, downloading materials from internet and other file system operations network\n",
    "* For IO bound task, we will see more benefits from threading rather than multiprocessing"
   ],
   "cell_type": "markdown",
   "metadata": {}
  },
  {
   "cell_type": "code",
   "execution_count": 28,
   "metadata": {},
   "outputs": [],
   "source": [
    "def do_something(): # a function to sleep for one second\n",
    "    print('Sleeping for one second...')\n",
    "    time.sleep(1) # to sleep for one second \n",
    "    print('Done Sleeping')"
   ]
  },
  {
   "cell_type": "code",
   "execution_count": 29,
   "metadata": {
    "tags": []
   },
   "outputs": [
    {
     "output_type": "stream",
     "name": "stdout",
     "text": "Sleeping for one second...\nDone Sleeping\nSleeping for one second...\nDone Sleeping\ntime taken: 2.00125s\n"
    }
   ],
   "source": [
    "start = timer() # starting counter\n",
    "\n",
    "do_something() \n",
    "do_something()\n",
    "# the above functions run sequentially\n",
    "\n",
    "finish = timer()\n",
    "print(f'time taken: {round(finish - start,5)}s')"
   ]
  },
  {
   "cell_type": "code",
   "execution_count": 30,
   "metadata": {
    "tags": []
   },
   "outputs": [
    {
     "output_type": "stream",
     "name": "stdout",
     "text": "Sleeping for one second...\nSleeping for one second...\ntime taken: 0.00503s\nDone Sleeping\nDone Sleeping\n"
    }
   ],
   "source": [
    "start = timer() \n",
    "\n",
    "# we are creating the threading object\n",
    "t1 = threading.Thread(target=do_something) # we want to refer to the function , NOT the function call\n",
    "t2 = threading.Thread(target=do_something)\n",
    "\n",
    "t1.start() # to start the thread\n",
    "t2.start() # to start the thread\n",
    "\n",
    "finish = timer()\n",
    "print(f'time taken: {round(finish - start,5)}s')\n",
    "# both threads start at almost the same time\n",
    "# while the threads were sleeping, it went ahead with the rest of the script and continue with the rest of the codes to calculate the finish time"
   ]
  },
  {
   "cell_type": "code",
   "execution_count": 31,
   "metadata": {
    "tags": []
   },
   "outputs": [
    {
     "output_type": "stream",
     "name": "stdout",
     "text": "Sleeping for one second...\nSleeping for one second...\nDone Sleeping\nDone Sleeping\ntime taken: 1.00899s\n"
    },
    {
     "output_type": "execute_result",
     "data": {
      "text/plain": "'\\nFor example, when the join() is invoked from a main thread, the main thread \\nwaits till the child thread on which join is invoked exits. \\nThe significance of join() method is, if join() is not invoked, the main thread may \\nexit before the child thread, which will result undetermined behaviour of programs and affect\\nprogram invariants and integrity of the data on which the program operates.\\n'"
     },
     "metadata": {},
     "execution_count": 31
    }
   ],
   "source": [
    "start = timer() \n",
    "\n",
    "t1 = threading.Thread(target=do_something)\n",
    "t2 = threading.Thread(target=do_something)\n",
    "\n",
    "t1.start()\n",
    "t2.start()\n",
    "\n",
    "t1.join() # When join method is invoked, the calling thread is blocked till the thread object on which it was called is terminated. \n",
    "t2.join() # by putting the join method here, we ensure that the thread finishes before it went to the rest of the code\n",
    "\n",
    "finish = timer()\n",
    "\n",
    "time_taken = finish - start\n",
    "print(f'time taken: {round(finish - start,5)}s')\n",
    "\n",
    "\"\"\"\n",
    "For example, when the join() is invoked from a main thread, the main thread \n",
    "waits till the child thread on which join is invoked exits. \n",
    "The significance of join() method is, if join() is not invoked, the main thread may \n",
    "exit before the child thread, which will result undetermined behaviour of programs and affect\n",
    "program invariants and integrity of the data on which the program operates.\n",
    "\"\"\""
   ]
  },
  {
   "cell_type": "code",
   "execution_count": 32,
   "metadata": {
    "tags": []
   },
   "outputs": [
    {
     "output_type": "stream",
     "name": "stdout",
     "text": "Sleeping for one second...\nSleeping for one second...\nSleeping for one second...\nSleeping for one second...\nSleeping for one second...\nSleeping for one second...\nSleeping for one second...\nSleeping for one second...\nSleeping for one second...\nSleeping for one second...\nDone Sleeping\nDone Sleeping\nDone SleepingDone Sleeping\n\nDone SleepingDone Sleeping\n\nDone Sleeping\nDone Sleeping\nDone Sleeping\nDone Sleeping\ntime taken: 1.02678s\n"
    }
   ],
   "source": [
    "start = timer() \n",
    "\n",
    "# we are starting 10 threads here\n",
    "# _ is a throwaway variable, we are not looping any variable here \n",
    "\n",
    "threads = []\n",
    "\n",
    "for _ in range(10):\n",
    "    t = threading.Thread(target=do_something) \n",
    "    t.start()\n",
    "    threads.append(t)\n",
    "    # we cannot do a t.join() within the loop becasue it will join on the main thread before looping through and creating the next thread which is as good as running the code synchronously\n",
    "    # we need a way to start all the threads in the same loop and loop through the thread again and run the join method so that all 10 threads finishes before the end of the script\n",
    "\n",
    "for thread in threads:\n",
    "    thread.join()\n",
    "# to make sure that all threads finishes before continuing with the rest of the scripts\n",
    "\n",
    "finish = timer()\n",
    "\n",
    "time_taken = finish - start\n",
    "print(f'time taken: {round(finish - start,5)}s')"
   ]
  },
  {
   "cell_type": "code",
   "execution_count": 33,
   "metadata": {
    "tags": []
   },
   "outputs": [
    {
     "output_type": "stream",
     "name": "stdout",
     "text": "Sleeping for 1.5 second(s)\nSleeping for 1.5 second(s)\nSleeping for 1.5 second(s)\nSleeping for 1.5 second(s)\nSleeping for 1.5 second(s)\nSleeping for 1.5 second(s)\nSleeping for 1.5 second(s)\nSleeping for 1.5 second(s)\nSleeping for 1.5 second(s)\nSleeping for 1.5 second(s)\nDone Sleeping\nDone Sleeping\nDone Sleeping\nDone Sleeping\nDone Sleeping\nDone Sleeping\nDone SleepingDone Sleeping\n\nDone Sleeping\nDone Sleeping\ntime taken: 1.5283s\n"
    }
   ],
   "source": [
    "def do_something_cool(seconds): # a function to sleep for one second\n",
    "    print(f'Sleeping for {seconds} second(s)')\n",
    "    time.sleep(seconds) # to sleep for one second \n",
    "    print('Done Sleeping')\n",
    "\n",
    "start = timer() \n",
    "\n",
    "threads = []\n",
    "for _ in range(10):\n",
    "    t = threading.Thread(target=do_something_cool, args=[1.5]) # if there is an agruments in the function, you need to pass into a list\n",
    "    t.start()\n",
    "    threads.append(t)\n",
    "\n",
    "for thread in threads:\n",
    "    thread.join()\n",
    "\n",
    "finish = timer()\n",
    "\n",
    "#time_taken = finish - start\n",
    "print(f'time taken: {round(finish - start,5)}s')"
   ]
  },
  {
   "cell_type": "code",
   "execution_count": 35,
   "metadata": {
    "tags": []
   },
   "outputs": [
    {
     "output_type": "stream",
     "name": "stdout",
     "text": "Sleeping for 1 second(s)\nSleeping for 1 second(s)\nDone Sleeping ...\nDone Sleeping ...\n"
    }
   ],
   "source": [
    "def do_something_cool(seconds): # a function to sleep for one second\n",
    "    print(f'Sleeping for {seconds} second(s)')\n",
    "    time.sleep(seconds) # to sleep for one second \n",
    "    return f'Done Sleeping ...'\n",
    "    \n",
    "# A more efficient way of multithreading and multiprocessing\n",
    "\n",
    "with concurrent.futures.ThreadPoolExecutor() as executor:\n",
    "    f1 = executor.submit(do_something_cool, 1) # this execute the function once # we need to pass in the function and parameter. 1 is the parameter here. \n",
    "    f2 = executor.submit(do_something_cool, 1)\n",
    "    print(f1.result())\n",
    "    print(f2.result())\n",
    "    \n",
    "    # if we want to execute the function once at a time # the submit method schedules a function to be executed and returns a future object\n",
    "    # the future object captures the execution of our function and allows us to check in on it after it is scheduled # we can check that it is running or if it is done and also allow us to check the results\n",
    "    # the result method give us the return value of the function"
   ]
  },
  {
   "cell_type": "code",
   "execution_count": 36,
   "metadata": {
    "tags": []
   },
   "outputs": [
    {
     "output_type": "stream",
     "name": "stdout",
     "text": "Sleeping for 1 second(s)\nSleeping for 1 second(s)\nSleeping for 1 second(s)\nSleeping for 1 second(s)\nSleeping for 1 second(s)\nSleeping for 1 second(s)\nSleeping for 1 second(s)\nSleeping for 1 second(s)\nSleeping for 1 second(s)\nSleeping for 1 second(s)\nDone Sleeping ...\nDone Sleeping ...\nDone Sleeping ...\nDone Sleeping ...\nDone Sleeping ...\nDone Sleeping ...\nDone Sleeping ...\nDone Sleeping ...\nDone Sleeping ...\nDone Sleeping ...\n"
    }
   ],
   "source": [
    "with concurrent.futures.ThreadPoolExecutor() as exe:\n",
    "    results = [exe.submit(do_something_cool, 1) for _ in range(10)] # to submit/execute the function 10 times\n",
    "\n",
    "    for f in concurrent.futures.as_completed(results): # the as_completed method returns an iterable which contains the res\n",
    "        print(f.result())"
   ]
  },
  {
   "cell_type": "code",
   "execution_count": 40,
   "metadata": {
    "tags": []
   },
   "outputs": [
    {
     "output_type": "stream",
     "name": "stdout",
     "text": "Sleeping for 5 second(s)\nSleeping for 4 second(s)\nSleeping for 3 second(s)\nSleeping for 2 second(s)\nSleeping for 1 second(s)\nDone Sleeping 1...\nDone Sleeping 2...\nDone Sleeping 3...\nDone Sleeping 4...\nDone Sleeping 5...\n"
    }
   ],
   "source": [
    "def do_something_cool(seconds): \n",
    "    print(f'Sleeping for {seconds} second(s)')\n",
    "    time.sleep(seconds) \n",
    "    return f'Done Sleeping {seconds}...'\n",
    "\n",
    "with concurrent.futures.ThreadPoolExecutor() as exe:\n",
    "    \n",
    "    lst = [5,4,3,2,1]\n",
    "    results = [exe.submit(do_something_cool, sec) for sec in lst]\n",
    "\n",
    "    for f in concurrent.futures.as_completed(results):\n",
    "        print(f.result()) # the results are printed in the order it is completed"
   ]
  },
  {
   "cell_type": "code",
   "execution_count": 44,
   "metadata": {
    "tags": []
   },
   "outputs": [
    {
     "output_type": "stream",
     "name": "stdout",
     "text": "Sleeping for 5 second(s)\nSleeping for 4 second(s)\nSleeping for 3 second(s)\nSleeping for 2 second(s)\nSleeping for 1 second(s)\nDone Sleeping 5...\nDone Sleeping 4...\nDone Sleeping 3...\nDone Sleeping 2...\nDone Sleeping 1...\n"
    }
   ],
   "source": [
    "# we can also use the map function to map the function over each elements in the iterable\n",
    "\n",
    "with concurrent.futures.ThreadPoolExecutor() as exe:\n",
    "    lst = [5,4,3,2,1]\n",
    "    results = exe.map(do_something_cool, lst) \n",
    "    # when we use the map function on the executor, it returns the results \n",
    "    # map will return the result in the order that they were started\n",
    "\n",
    "    for f in results:\n",
    "        print(f)"
   ]
  },
  {
   "cell_type": "code",
   "execution_count": 4,
   "metadata": {
    "tags": []
   },
   "outputs": [
    {
     "output_type": "stream",
     "name": "stdout",
     "text": "photo-1516117172878-fd2c41f4a759.jpg was downloaded\nphoto-1532009324734-20a7a5813719.jpg was downloaded\nphoto-1524429656589-6633a470097c.jpg was downloaded\nphoto-1530224264768-7ff8c1789d79.jpg was downloaded\nphoto-1564135624576-c5c88640f235.jpg was downloaded\nphoto-1541698444083-023c97d3f4b6.jpg was downloaded\nphoto-1522364723953-452d3431c267.jpg was downloaded\nphoto-1513938709626-033611b8cc03.jpg was downloaded\nphoto-1507143550189-fed454f93097.jpg was downloaded\nphoto-1493976040374-85c8e12f0c0e.jpg was downloaded\nphoto-1504198453319-5ce911bafcde.jpg was downloaded\nphoto-1530122037265-a5f1f91d3b99.jpg was downloaded\nphoto-1516972810927-80185027ca84.jpg was downloaded\nphoto-1550439062-609e1531270e.jpg was downloaded\nphoto-1549692520-acc6669e2f0c.jpg was downloaded\n16.250105400000002\n"
    }
   ],
   "source": [
    "# Real World Example of a Threading Example\n",
    "\n",
    "os.chdir(r'C:\\Users\\tanzh\\Documents\\Python\\image_download_threading')\n",
    "start = timer()\n",
    "img_urls = [\n",
    "    'https://images.unsplash.com/photo-1516117172878-fd2c41f4a759',\n",
    "    'https://images.unsplash.com/photo-1532009324734-20a7a5813719',\n",
    "    'https://images.unsplash.com/photo-1524429656589-6633a470097c',\n",
    "    'https://images.unsplash.com/photo-1530224264768-7ff8c1789d79',\n",
    "    'https://images.unsplash.com/photo-1564135624576-c5c88640f235',\n",
    "    'https://images.unsplash.com/photo-1541698444083-023c97d3f4b6',\n",
    "    'https://images.unsplash.com/photo-1522364723953-452d3431c267',\n",
    "    'https://images.unsplash.com/photo-1513938709626-033611b8cc03',\n",
    "    'https://images.unsplash.com/photo-1507143550189-fed454f93097',\n",
    "    'https://images.unsplash.com/photo-1493976040374-85c8e12f0c0e',\n",
    "    'https://images.unsplash.com/photo-1504198453319-5ce911bafcde',\n",
    "    'https://images.unsplash.com/photo-1530122037265-a5f1f91d3b99',\n",
    "    'https://images.unsplash.com/photo-1516972810927-80185027ca84',\n",
    "    'https://images.unsplash.com/photo-1550439062-609e1531270e',\n",
    "    'https://images.unsplash.com/photo-1549692520-acc6669e2f0c'\n",
    "]\n",
    "\n",
    "for url in img_urls:\n",
    "    image_content = requests.get(url).content\n",
    "    image_name = f\"{url.split('/')[3]}.jpg\"\n",
    "\n",
    "    with open(image_name, 'wb') as f:\n",
    "        f.write(image_content)\n",
    "        print(f'{image_name} was downloaded')\n",
    "\n",
    "end = timer()\n",
    "\n",
    "print(end - start)"
   ]
  },
  {
   "cell_type": "code",
   "execution_count": 5,
   "metadata": {
    "tags": []
   },
   "outputs": [
    {
     "output_type": "stream",
     "name": "stdout",
     "text": "photo-1564135624576-c5c88640f235.jpg was downloaded\nphoto-1516117172878-fd2c41f4a759.jpg was downloaded\nphoto-1507143550189-fed454f93097.jpg was downloaded\nphoto-1549692520-acc6669e2f0c.jpg was downloaded\nphoto-1516972810927-80185027ca84.jpg was downloaded\nphoto-1504198453319-5ce911bafcde.jpg was downloaded\nphoto-1530224264768-7ff8c1789d79.jpg was downloaded\nphoto-1550439062-609e1531270e.jpg was downloaded\nphoto-1530122037265-a5f1f91d3b99.jpg was downloaded\nphoto-1524429656589-6633a470097c.jpg was downloaded\nphoto-1513938709626-033611b8cc03.jpg was downloaded\nphoto-1522364723953-452d3431c267.jpg was downloaded\nphoto-1532009324734-20a7a5813719.jpg was downloaded\nphoto-1493976040374-85c8e12f0c0e.jpg was downloaded\nphoto-1541698444083-023c97d3f4b6.jpg was downloaded\n12.62778759999999\n"
    }
   ],
   "source": [
    "start = timer()\n",
    "\n",
    "img_urls = [\n",
    "    'https://images.unsplash.com/photo-1516117172878-fd2c41f4a759',\n",
    "    'https://images.unsplash.com/photo-1532009324734-20a7a5813719',\n",
    "    'https://images.unsplash.com/photo-1524429656589-6633a470097c',\n",
    "    'https://images.unsplash.com/photo-1530224264768-7ff8c1789d79',\n",
    "    'https://images.unsplash.com/photo-1564135624576-c5c88640f235',\n",
    "    'https://images.unsplash.com/photo-1541698444083-023c97d3f4b6',\n",
    "    'https://images.unsplash.com/photo-1522364723953-452d3431c267',\n",
    "    'https://images.unsplash.com/photo-1513938709626-033611b8cc03',\n",
    "    'https://images.unsplash.com/photo-1507143550189-fed454f93097',\n",
    "    'https://images.unsplash.com/photo-1493976040374-85c8e12f0c0e',\n",
    "    'https://images.unsplash.com/photo-1504198453319-5ce911bafcde',\n",
    "    'https://images.unsplash.com/photo-1530122037265-a5f1f91d3b99',\n",
    "    'https://images.unsplash.com/photo-1516972810927-80185027ca84',\n",
    "    'https://images.unsplash.com/photo-1550439062-609e1531270e',\n",
    "    'https://images.unsplash.com/photo-1549692520-acc6669e2f0c'\n",
    "]\n",
    "\n",
    "def download_image(url):\n",
    "    image_content = requests.get(url).content\n",
    "    image_name = f\"{url.split('/')[3]}.jpg\"\n",
    "\n",
    "    with open(image_name, 'wb') as f:\n",
    "        f.write(image_content)\n",
    "        print(f'{image_name} was downloaded')    \n",
    "\n",
    "with concurrent.futures.ThreadPoolExecutor() as exe:\n",
    "    exe.map(download_image, img_urls)\n",
    "\n",
    "end = timer()\n",
    "print(end-start)"
   ]
  },
  {
   "cell_type": "code",
   "execution_count": null,
   "metadata": {},
   "outputs": [],
   "source": []
  },
  {
   "cell_type": "code",
   "execution_count": null,
   "metadata": {},
   "outputs": [],
   "source": []
  },
  {
   "cell_type": "code",
   "execution_count": null,
   "metadata": {},
   "outputs": [],
   "source": []
  },
  {
   "cell_type": "code",
   "execution_count": null,
   "metadata": {},
   "outputs": [],
   "source": []
  },
  {
   "cell_type": "code",
   "execution_count": null,
   "metadata": {},
   "outputs": [],
   "source": []
  },
  {
   "cell_type": "code",
   "execution_count": null,
   "metadata": {},
   "outputs": [],
   "source": []
  },
  {
   "cell_type": "code",
   "execution_count": null,
   "metadata": {},
   "outputs": [],
   "source": []
  },
  {
   "cell_type": "code",
   "execution_count": null,
   "metadata": {},
   "outputs": [],
   "source": []
  },
  {
   "cell_type": "code",
   "execution_count": null,
   "metadata": {},
   "outputs": [],
   "source": []
  },
  {
   "cell_type": "code",
   "execution_count": null,
   "metadata": {},
   "outputs": [],
   "source": []
  },
  {
   "cell_type": "code",
   "execution_count": null,
   "metadata": {},
   "outputs": [],
   "source": []
  },
  {
   "cell_type": "code",
   "execution_count": null,
   "metadata": {},
   "outputs": [],
   "source": []
  },
  {
   "cell_type": "code",
   "execution_count": null,
   "metadata": {},
   "outputs": [],
   "source": []
  },
  {
   "cell_type": "code",
   "execution_count": null,
   "metadata": {},
   "outputs": [],
   "source": []
  },
  {
   "cell_type": "code",
   "execution_count": null,
   "metadata": {},
   "outputs": [],
   "source": []
  },
  {
   "cell_type": "code",
   "execution_count": null,
   "metadata": {},
   "outputs": [],
   "source": []
  },
  {
   "cell_type": "code",
   "execution_count": null,
   "metadata": {},
   "outputs": [],
   "source": []
  },
  {
   "cell_type": "code",
   "execution_count": null,
   "metadata": {},
   "outputs": [],
   "source": []
  },
  {
   "cell_type": "code",
   "execution_count": null,
   "metadata": {},
   "outputs": [],
   "source": []
  },
  {
   "cell_type": "code",
   "execution_count": null,
   "metadata": {},
   "outputs": [],
   "source": []
  },
  {
   "cell_type": "code",
   "execution_count": null,
   "metadata": {},
   "outputs": [],
   "source": []
  },
  {
   "cell_type": "code",
   "execution_count": null,
   "metadata": {},
   "outputs": [],
   "source": []
  },
  {
   "cell_type": "code",
   "execution_count": null,
   "metadata": {},
   "outputs": [],
   "source": []
  }
 ],
 "metadata": {
  "kernelspec": {
   "display_name": "Python 3.7.4 64-bit ('base': conda)",
   "language": "python",
   "name": "python37464bitbaseconda6db2893f0e1b4b6ea66d23044bec9473"
  },
  "language_info": {
   "codemirror_mode": {
    "name": "ipython",
    "version": 3
   },
   "file_extension": ".py",
   "mimetype": "text/x-python",
   "name": "python",
   "nbconvert_exporter": "python",
   "pygments_lexer": "ipython3",
   "version": "3.7.4-final"
  }
 },
 "nbformat": 4,
 "nbformat_minor": 2
}