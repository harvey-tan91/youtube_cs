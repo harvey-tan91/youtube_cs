{
 "cells": [
  {
   "cell_type": "markdown",
   "metadata": {},
   "source": [
    "# #1. Classes and Instances"
   ]
  },
  {
   "cell_type": "markdown",
   "metadata": {},
   "source": [
    "* A class is a blueprint for us to create instances\n",
    "* If we want the class to perform certain actions, we can create a method/function\n"
   ]
  },
  {
   "cell_type": "code",
   "execution_count": 154,
   "metadata": {},
   "outputs": [],
   "source": [
    "class Employee:\n",
    "\n",
    "    def __init__(self, first, last, pay): \n",
    "        # we initiate the class with the init constructor\n",
    "        # when we create a method within a class, they will receive the instance as the first agrument automatically\n",
    "        # by convention, we call the instance self\n",
    "\n",
    "        # the below are attributes of the Employee class\n",
    "        self.first = first\n",
    "        self.last = last\n",
    "        self.pay = pay\n",
    "        self.email = first + '.' + last + '@company.com'\n",
    "\n",
    "    def fullname(self):\n",
    "        # we are defining a method/function for the Employee class\n",
    "        # each method within a class will automatically take the instance as the first agruement \n",
    "        return f'{self.first} {self.last}' # here we are creating a function that outputs the attributes "
   ]
  },
  {
   "cell_type": "code",
   "execution_count": 155,
   "metadata": {},
   "outputs": [
    {
     "output_type": "execute_result",
     "data": {
      "text/plain": "'Harvey.Tan@company.com'"
     },
     "metadata": {},
     "execution_count": 155
    }
   ],
   "source": [
    "emp_1 = Employee('Harvey','Tan',4000) # this is an instance of the Employee class\n",
    "emp_2 = Employee('Test','User',10000) # this is an instance of the Employee class\n",
    "\n",
    "emp_1.email # we are calling the attribute here"
   ]
  },
  {
   "cell_type": "code",
   "execution_count": 156,
   "metadata": {
    "tags": []
   },
   "outputs": [
    {
     "output_type": "stream",
     "name": "stdout",
     "text": "Harvey Tan\nTest User\n"
    }
   ],
   "source": [
    "print(emp_1.fullname()) # we are calling a method/function here\n",
    "print(emp_2.fullname()) # emp_2 (instance/self is being passed into the method's agrument)"
   ]
  },
  {
   "cell_type": "code",
   "execution_count": 157,
   "metadata": {
    "tags": []
   },
   "outputs": [
    {
     "output_type": "stream",
     "name": "stdout",
     "text": "Harvey Tan\nHarvey Tan\n"
    }
   ],
   "source": [
    "print(emp_1.fullname()) # here we have the instance followed by the method\n",
    "print(Employee.fullname(emp_1)) # here we are calling the class -> method. The method does not know which instance it is taking in and hence we need to supply this information"
   ]
  },
  {
   "source": [
    "# #2. Class Variable vs Instance Variable"
   ],
   "cell_type": "markdown",
   "metadata": {}
  },
  {
   "source": [
    "* Class variable are variables that are shared among all instances of a Class\n",
    "* Class variables are the same for each of the instances of a Class\n",
    "* Instance variable are variables that are unique for each instance like the names/email/pay in the above example\n",
    " "
   ],
   "cell_type": "markdown",
   "metadata": {}
  },
  {
   "cell_type": "code",
   "execution_count": 158,
   "metadata": {
    "tags": []
   },
   "outputs": [
    {
     "output_type": "stream",
     "name": "stdout",
     "text": "0\n2\n"
    }
   ],
   "source": [
    "class Employee:\n",
    "\n",
    "    raise_amount = 1.04 # this is a class variable, this value is shared across all instances of this class\n",
    "    num_of_emps = 0\n",
    "\n",
    "    def __init__(self, first, last, pay): \n",
    "        # below are all the instance variable that will be created when we create instances of this class\n",
    "        self.first = first\n",
    "        self.last = last\n",
    "        self.pay = pay\n",
    "        self.email = first + '.' + last + '@company.com'\n",
    "\n",
    "        Employee.num_of_emps += 1 # whenever we created any instances of this class, this will increase by 1\n",
    "        # we should use Employee.num_of_emps instead of self.num_of_emp\n",
    "        # there is no use cases where the number of employees will be different for any one instances \n",
    "\n",
    "    def fullname(self):\n",
    "        return f'{self.first} {self.last}' \n",
    "\n",
    "    def apply_raise(self):\n",
    "        self.pay = int(self.pay * self.raise_amount) # we can access the raise amount (class variable) either through the class level or the instance level\n",
    "        # Using self.raise_amount is better than Employee.raise_amount\n",
    "        # it allow us to overwrite the value from the class variable\n",
    "\n",
    "print(Employee.num_of_emps)\n",
    "emp_1 = Employee('Harvey','Tan',4000)\n",
    "emp_2 = Employee('Test','User',10000)\n",
    "print(Employee.num_of_emps)"
   ]
  },
  {
   "cell_type": "code",
   "execution_count": 159,
   "metadata": {
    "tags": []
   },
   "outputs": [
    {
     "output_type": "stream",
     "name": "stdout",
     "text": "4000\n4160\n"
    }
   ],
   "source": [
    "print(emp_1.pay)\n",
    "emp_1.apply_raise()\n",
    "print(emp_1.pay)\n",
    "\n",
    "# instead of hardcoding the raise amount in the method (apply_raise), we can define a class variable that will be applicable at the class level"
   ]
  },
  {
   "cell_type": "code",
   "execution_count": 160,
   "metadata": {
    "tags": []
   },
   "outputs": [
    {
     "output_type": "stream",
     "name": "stdout",
     "text": "1.04\n1.04\n1.04\n"
    }
   ],
   "source": [
    "# we can access the class variable either from the class itself or the instances level\n",
    "print(Employee.raise_amount)\n",
    "\n",
    "# if we try to access the attribute through an instance, it will check if the instance contain that attribute\n",
    "# if the instance does not have the attribute, it will retrieve the value from the class attribute or from any class that it inherit from \n",
    "\n",
    "print(emp_1.raise_amount) \n",
    "print(emp_2.raise_amount)"
   ]
  },
  {
   "cell_type": "code",
   "execution_count": 161,
   "metadata": {
    "tags": []
   },
   "outputs": [
    {
     "output_type": "stream",
     "name": "stdout",
     "text": "{'first': 'Harvey', 'last': 'Tan', 'pay': 4160, 'email': 'Harvey.Tan@company.com'}\n"
    }
   ],
   "source": [
    "print(emp_1.__dict__) # notice that the raise_amount class variable is not in emp_1"
   ]
  },
  {
   "cell_type": "code",
   "execution_count": 162,
   "metadata": {
    "tags": []
   },
   "outputs": [
    {
     "output_type": "stream",
     "name": "stdout",
     "text": "{'__module__': '__main__', 'raise_amount': 1.04, 'num_of_emps': 2, '__init__': <function Employee.__init__ at 0x0000024CF72E1CA8>, 'fullname': <function Employee.fullname at 0x0000024CF72E1828>, 'apply_raise': <function Employee.apply_raise at 0x0000024CF65C5048>, '__dict__': <attribute '__dict__' of 'Employee' objects>, '__weakref__': <attribute '__weakref__' of 'Employee' objects>, '__doc__': None}\n"
    }
   ],
   "source": [
    "print(Employee.__dict__)"
   ]
  },
  {
   "cell_type": "code",
   "execution_count": 163,
   "metadata": {
    "tags": []
   },
   "outputs": [
    {
     "output_type": "stream",
     "name": "stdout",
     "text": "1.08\n1.08\n{'first': 'Harvey', 'last': 'Tan', 'pay': 4160, 'email': 'Harvey.Tan@company.com'}\n1.08\n"
    }
   ],
   "source": [
    "# we can change the value of the class variable by calling the class variable and assigning to the new variable\n",
    "# by changing the value of the class variable, all the instances that inherit this class variable be impacted by this change\n",
    "Employee.raise_amount = 1.08\n",
    "\n",
    "print(Employee.raise_amount)\n",
    "print(emp_1.raise_amount)\n",
    "print(emp_1.__dict__)\n",
    "print(emp_2.raise_amount)"
   ]
  },
  {
   "source": [
    "# we can change the value of the raise_amount class variable for a single instance\n",
    "\n",
    "print('emp_1 namespace before we assign the raise_amount attribute within the instance')\n",
    "print(emp_1.__dict__)\n",
    "print('\\n')\n",
    "\n",
    "print('Class variable - raise amount')\n",
    "print(Employee.raise_amount)\n",
    "print('\\n')\n",
    "\n",
    "emp_1.raise_amount = 1.25 # this will create the raise_amount attribute within the emp_1 instance\n",
    "print('emp_1')\n",
    "print(emp_1.raise_amount) # since we created the raise_amount attribute for this instance, it finds the attribute value within its own namespace before going to the class value\n",
    "print(emp_1.__dict__)\n",
    "print('\\n')\n",
    "\n",
    "print('emp_2')\n",
    "print(emp_2.raise_amount) # since we did not create the raise_amount for this instance, it goes directly to the class value \n",
    "print(emp_2.__dict__)"
   ],
   "cell_type": "code",
   "metadata": {
    "tags": []
   },
   "execution_count": 164,
   "outputs": [
    {
     "output_type": "stream",
     "name": "stdout",
     "text": "emp_1 namespace before we assign the raise_amount attribute within the instance\n{'first': 'Harvey', 'last': 'Tan', 'pay': 4160, 'email': 'Harvey.Tan@company.com'}\n\n\nClass variable - raise amount\n1.08\n\n\nemp_1\n1.25\n{'first': 'Harvey', 'last': 'Tan', 'pay': 4160, 'email': 'Harvey.Tan@company.com', 'raise_amount': 1.25}\n\n\nemp_2\n1.08\n{'first': 'Test', 'last': 'User', 'pay': 10000, 'email': 'Test.User@company.com'}\n"
    }
   ]
  },
  {
   "source": [
    "# #3. Methods: Regular, Class, Static"
   ],
   "cell_type": "markdown",
   "metadata": {}
  },
  {
   "source": [
    "* Regular methods in a class automatically takes the instance as the first agrument\n",
    "* Class methods takes the class instead of the instance as the first agruement\n",
    "* 'self' is the convention for calling instance and 'cls' is the convention for calling the class\n",
    "* Static method do not take the class or the instance as the first agruement "
   ],
   "cell_type": "markdown",
   "metadata": {}
  },
  {
   "cell_type": "code",
   "execution_count": 3,
   "metadata": {},
   "outputs": [],
   "source": [
    "class Employee:\n",
    "\n",
    "    raise_amount = 1.04 \n",
    "    num_of_emps = 0\n",
    "\n",
    "    def __init__(self, first, last, pay): \n",
    "        self.first = first\n",
    "        self.last = last\n",
    "        self.pay = pay\n",
    "        self.email = first + '.' + last + '@company.com'\n",
    "\n",
    "        Employee.num_of_emps += 1 \n",
    "\n",
    "    def fullname(self):\n",
    "        return f'{self.first} {self.last}' \n",
    "\n",
    "    def apply_raise(self):\n",
    "        self.pay = int(self.pay * self.raise_amount)\n",
    "\n",
    "    @classmethod # the classmethod decorator alters the below function such that it receive the class as the first agruement instead of the instance\n",
    "    def set_raise_amt(cls, amount): # cls is the convention for declaring class\n",
    "        cls.raise_amount = amount\n",
    "\n",
    "    # We can use classmethod as an alternative constructor \n",
    "    @classmethod\n",
    "    def from_string(cls, emp_str):\n",
    "        first,last,pay = emp_str.split('-')\n",
    "        return cls(first, last, pay)\n",
    "        # cls(first,last,pay) will create the instances  \n",
    "        # cls(first,last,pay) is the same as Employee(first,last,pay)\n",
    "\n",
    "    @staticmethod\n",
    "    def is_workday(day): # this is static method which does not take in the class or the instance variable as the first agruement \n",
    "        if day.weekday() == 5 or day.weekday == 6: # 5 refer to sat and 6 refer to sun\n",
    "            return False\n",
    "        return True\n",
    "    # if we do not have any self or class anywhere in the function, chances are it should be a static method\n",
    "\n",
    "emp_1 = Employee('Harvey','Tan',4000)\n",
    "emp_2 = Employee('Test','User',10000)"
   ]
  },
  {
   "cell_type": "code",
   "execution_count": 4,
   "metadata": {
    "tags": []
   },
   "outputs": [
    {
     "output_type": "stream",
     "name": "stdout",
     "text": [
      "1.04\n1.04\n1.04\n"
     ]
    }
   ],
   "source": [
    "print(Employee.raise_amount)\n",
    "print(emp_1.raise_amount)\n",
    "print(emp_2.raise_amount)"
   ]
  },
  {
   "cell_type": "code",
   "execution_count": 14,
   "metadata": {
    "tags": []
   },
   "outputs": [
    {
     "output_type": "stream",
     "name": "stdout",
     "text": "1.05\n1.05\n1.05\n"
    }
   ],
   "source": [
    "Employee.set_raise_amt(1.05) # we can now call the class method to alter the class variable throught the class method\n",
    "# Employee.raise_amount = 1.07 --> same as above \n",
    "\n",
    "print(Employee.raise_amount)\n",
    "print(emp_1.raise_amount)\n",
    "print(emp_2.raise_amount)"
   ]
  },
  {
   "cell_type": "code",
   "execution_count": 15,
   "metadata": {
    "tags": []
   },
   "outputs": [
    {
     "output_type": "stream",
     "name": "stdout",
     "text": "1.09\n1.09\n1.09\n"
    }
   ],
   "source": [
    "# you can also use the instances to access the class method to alter the class variable, however, this approach is not common\n",
    "emp_1.set_raise_amt(1.09)\n",
    "\n",
    "print(Employee.raise_amount)\n",
    "print(emp_1.raise_amount)\n",
    "print(emp_2.raise_amount)"
   ]
  },
  {
   "cell_type": "code",
   "execution_count": 18,
   "metadata": {
    "tags": []
   },
   "outputs": [
    {
     "output_type": "stream",
     "name": "stdout",
     "text": "{'first': 'John', 'last': 'Doe', 'pay': '70000', 'email': 'John.Doe@company.com'}\n{'first': 'Steve', 'last': 'Smith', 'pay': '100000', 'email': 'Steve.Smith@company.com'}\n{'first': 'Jane', 'last': 'Doe', 'pay': '75000', 'email': 'Jane.Doe@company.com'}\n"
    }
   ],
   "source": [
    "# we pass the below agruments into the alternative constructor \n",
    "emp_str_1 = 'John-Doe-70000'\n",
    "emp_str_2 = 'Steve-Smith-100000'\n",
    "emp_str_3 = 'Jane-Doe-75000'\n",
    "\n",
    "emp_str_1 = Employee.from_string(emp_str_1)\n",
    "emp_str_2 = Employee.from_string(emp_str_2)\n",
    "emp_str_3 = Employee.from_string(emp_str_3)\n",
    "\n",
    "print(emp_str_1.__dict__)\n",
    "print(emp_str_2.__dict__)\n",
    "print(emp_str_3.__dict__)"
   ]
  },
  {
   "cell_type": "code",
   "execution_count": 20,
   "metadata": {},
   "outputs": [
    {
     "output_type": "execute_result",
     "data": {
      "text/plain": "True"
     },
     "metadata": {},
     "execution_count": 20
    }
   ],
   "source": [
    "import datetime \n",
    "my_date = datetime.date(2016,7,10)\n",
    "Employee.is_workday(my_date)"
   ]
  },
  {
   "source": [
    "# #4. Inheritance - Creating Subclasses"
   ],
   "cell_type": "markdown",
   "metadata": {}
  },
  {
   "source": [
    "* Inheritance allows us to inherit attributes and methods from a parent class\n",
    "* We can then create subclasses and get all the functionality of the parent class and overwrite or add completely new functionality without affecting the parent class in any way"
   ],
   "cell_type": "markdown",
   "metadata": {}
  },
  {
   "cell_type": "code",
   "execution_count": 23,
   "metadata": {},
   "outputs": [],
   "source": [
    "class Employee:\n",
    "\n",
    "    raise_amount = 1.04 \n",
    "    num_of_emps = 0\n",
    "\n",
    "    def __init__(self, first, last, pay): \n",
    "        self.first = first\n",
    "        self.last = last\n",
    "        self.pay = pay\n",
    "        self.email = first + '.' + last + '@company.com'\n",
    "\n",
    "        Employee.num_of_emps += 1 \n",
    "\n",
    "    def fullname(self):\n",
    "        return f'{self.first} {self.last}' \n",
    "\n",
    "    def apply_raise(self):\n",
    "        self.pay = int(self.pay * self.raise_amount)\n",
    "\n",
    "class Developer(Employee): # by putting the 'Employee' into the agrument, we are inheriting the Employee class, i.e. the Employee class is the parent class\n",
    "    raise_amount = 1.50 # this raise amount is only applicable to the developer class\n",
    "    # we do not have to rekey the same code as above to input information into the class\n",
    "\n",
    "    def __init__(self, first, last, pay, prog_lang):\n",
    "        # if we want to include a new attribute that is only applicable for the developer (say prog_lang), then we need to create a new init method\n",
    "        \n",
    "        # we also do not need to repeat the attribute that has already been specified in our parent class\n",
    "        Employee.__init__(self, first, last, pay) # here we specify that first, last and pay will be handled by the Employee class\n",
    "        self.prog_lang = prog_lang\n",
    "\n",
    "\n",
    "class Manager(Employee):\n",
    "\n",
    "    def __init__(self, first, last, pay, employees=None):\n",
    "        Employee.__init__(self, first, last, pay)\n",
    "        if employees is None:\n",
    "            self.employees = []\n",
    "        else:\n",
    "            self.employees = employees\n",
    "\n",
    "    def add_employee(self, emp):\n",
    "        if emp not in self.employees:\n",
    "            self.employees.append(emp)\n",
    "\n",
    "    def remove_employee(self, emp):\n",
    "        if emp in self.employees:\n",
    "            self.employees.remove(emp)\n",
    "\n",
    "    def show_employee(self):\n",
    "        for emp in self.employees:\n",
    "            print(f'--> {emp.fullname()}')\n",
    "\n",
    "emp_1 = Employee('Harvey','Tan',4000)\n",
    "emp_2 = Employee('Test','User',10000)\n",
    "\n",
    "dev_1 = Developer('Harvey','Tan',4000, 'Python')\n",
    "dev_2 = Developer('Test','User',10000, 'Java')"
   ]
  },
  {
   "cell_type": "code",
   "execution_count": 24,
   "metadata": {
    "tags": []
   },
   "outputs": [
    {
     "output_type": "stream",
     "name": "stdout",
     "text": [
      "4000\n6000\n\nPython\nJava\n"
     ]
    }
   ],
   "source": [
    "print(dev_1.pay)\n",
    "dev_1.apply_raise()\n",
    "print(dev_1.pay)\n",
    "print()\n",
    "print(dev_1.prog_lang)\n",
    "print(dev_2.prog_lang)"
   ]
  },
  {
   "cell_type": "code",
   "execution_count": 37,
   "metadata": {},
   "outputs": [
    {
     "output_type": "stream",
     "name": "stdout",
     "text": [
      "sue.smith@company.com\n--> Harvey Tan\nNone\n"
     ]
    }
   ],
   "source": [
    "manager_1 = Manager('sue', 'smith', 90000, [dev_1])\n",
    "\n",
    "print(manager_1.email)\n",
    "print(manager_1.show_employee())"
   ]
  },
  {
   "cell_type": "code",
   "execution_count": 38,
   "metadata": {},
   "outputs": [
    {
     "output_type": "stream",
     "name": "stdout",
     "text": [
      "--> Harvey Tan\n--> Test User\n"
     ]
    }
   ],
   "source": [
    "manager_1.add_employee(dev_2)\n",
    "manager_1.show_employee()"
   ]
  },
  {
   "cell_type": "code",
   "execution_count": 39,
   "metadata": {},
   "outputs": [
    {
     "output_type": "stream",
     "name": "stdout",
     "text": [
      "--> Test User\n"
     ]
    }
   ],
   "source": [
    "manager_1.remove_employee(dev_1)\n",
    "manager_1.show_employee()"
   ]
  },
  {
   "cell_type": "code",
   "execution_count": 41,
   "metadata": {},
   "outputs": [
    {
     "output_type": "stream",
     "name": "stdout",
     "text": [
      "True\nTrue\nFalse\n"
     ]
    }
   ],
   "source": [
    "print(isinstance(manager_1, Manager))\n",
    "print(isinstance(manager_1, Employee))\n",
    "print(isinstance(manager_1, Developer))"
   ]
  },
  {
   "cell_type": "code",
   "execution_count": 45,
   "metadata": {},
   "outputs": [
    {
     "output_type": "stream",
     "name": "stdout",
     "text": [
      "True\nTrue\nFalse\n"
     ]
    }
   ],
   "source": [
    "print(issubclass(Developer, Employee))\n",
    "print(issubclass(Manager, Employee))\n",
    "print(issubclass(Manager, Developer))"
   ]
  },
  {
   "source": [
    "# #5. Special Method\n",
    "\n",
    "- Special methods are surrounded by the double underscores\n",
    "- The double underscores are known as dunder as well \n"
   ],
   "cell_type": "markdown",
   "metadata": {}
  },
  {
   "cell_type": "code",
   "execution_count": 62,
   "metadata": {},
   "outputs": [],
   "source": [
    "class Employee:\n",
    "\n",
    "    raise_amount = 1.04\n",
    "\n",
    "    def __init__(self, first, last, pay):\n",
    "        self.first = first\n",
    "        self.last = last\n",
    "        self.pay = pay\n",
    "        self.email = f'{self.first}.{self.last}@gmail.com'\n",
    "\n",
    "    def full_name(self):\n",
    "        return f'{self.first} {self.last}'\n",
    "\n",
    "    def apply_raise(self):\n",
    "        self.pay = int(self.pay * self.raise_amount)\n",
    "\n",
    "    def __repr__(self): # these two special methods (repr & str) allow us to change the way how are instances are printed and displayed on the screen\n",
    "        return f\"Employee('{self.first}', '{self.last}', '{self.pay}')\"\n",
    "\n",
    "    def __str__(self):\n",
    "        return f'{self.full_name()} -- {self.email}'\n",
    "\n",
    "    def __add__(self, other): # this special method allow our instances to add feature \n",
    "        return self.pay + other.pay\n",
    "\n",
    "    def __len__(self): # this special method allows to derive the lenght of some attribute\n",
    "        return len(self.full_name())\n"
   ]
  },
  {
   "cell_type": "code",
   "execution_count": 63,
   "metadata": {},
   "outputs": [
    {
     "output_type": "stream",
     "name": "stdout",
     "text": [
      "Harvey Tan -- Harvey.Tan@gmail.com\nHarvey Tan -- Harvey.Tan@gmail.com\n\nEmployee('Harvey', 'Tan', '12000')\n"
     ]
    }
   ],
   "source": [
    "emp_1 = Employee('Harvey', 'Tan', 12000)\n",
    "emp_2 = Employee('Harvey', 'Tan', 12000)\n",
    "\n",
    "print(emp_1)\n",
    "print(str(emp_1))\n",
    "print()\n",
    "print(repr(emp_1))\n"
   ]
  },
  {
   "cell_type": "code",
   "execution_count": 65,
   "metadata": {},
   "outputs": [
    {
     "output_type": "stream",
     "name": "stdout",
     "text": [
      "Employee('Harvey', 'Tan', '12000')\nHarvey Tan -- Harvey.Tan@gmail.com\n"
     ]
    }
   ],
   "source": [
    "print(emp_1.__repr__())\n",
    "print(emp_1.__str__())"
   ]
  },
  {
   "cell_type": "code",
   "execution_count": 67,
   "metadata": {},
   "outputs": [
    {
     "output_type": "execute_result",
     "data": {
      "text/plain": [
       "Employee('Harvey', 'Tan', '12000')"
      ]
     },
     "metadata": {},
     "execution_count": 67
    }
   ],
   "source": [
    "emp_1"
   ]
  },
  {
   "cell_type": "code",
   "execution_count": 68,
   "metadata": {},
   "outputs": [
    {
     "output_type": "stream",
     "name": "stdout",
     "text": [
      "3\nan\n"
     ]
    }
   ],
   "source": [
    "print(int.__add__(1,2)) # int and str are the classes here and __add__ is the dunder method \n",
    "print(str.__add__('a','n'))"
   ]
  },
  {
   "cell_type": "code",
   "execution_count": 69,
   "metadata": {},
   "outputs": [
    {
     "output_type": "execute_result",
     "data": {
      "text/plain": [
       "24000"
      ]
     },
     "metadata": {},
     "execution_count": 69
    }
   ],
   "source": [
    "emp_1 + emp_2"
   ]
  },
  {
   "cell_type": "code",
   "execution_count": 60,
   "metadata": {},
   "outputs": [
    {
     "output_type": "error",
     "ename": "TypeError",
     "evalue": "object of type 'Employee' has no len()",
     "traceback": [
      "\u001b[1;31m---------------------------------------------------------------------------\u001b[0m",
      "\u001b[1;31mTypeError\u001b[0m                                 Traceback (most recent call last)",
      "\u001b[1;32m<ipython-input-60-c4cb000f961d>\u001b[0m in \u001b[0;36m<module>\u001b[1;34m\u001b[0m\n\u001b[1;32m----> 1\u001b[1;33m \u001b[0mlen\u001b[0m\u001b[1;33m(\u001b[0m\u001b[0memp_1\u001b[0m\u001b[1;33m)\u001b[0m\u001b[1;33m\u001b[0m\u001b[1;33m\u001b[0m\u001b[0m\n\u001b[0m",
      "\u001b[1;31mTypeError\u001b[0m: object of type 'Employee' has no len()"
     ]
    }
   ],
   "source": [
    "len(emp_1) "
   ]
  },
  {
   "cell_type": "code",
   "execution_count": 70,
   "metadata": {},
   "outputs": [
    {
     "output_type": "execute_result",
     "data": {
      "text/plain": [
       "10"
      ]
     },
     "metadata": {},
     "execution_count": 70
    }
   ],
   "source": [
    "len(emp_1) "
   ]
  },
  {
   "source": [
    "# #6. Property Decorators - Getters, Setters and Deleters"
   ],
   "cell_type": "markdown",
   "metadata": {}
  },
  {
   "cell_type": "code",
   "execution_count": 104,
   "metadata": {},
   "outputs": [
    {
     "output_type": "stream",
     "name": "stdout",
     "text": [
      "Harvey Tan\nHarvey Tan\n\nJason\nJason Tan\nHarvey.Tan@hotmail.com\n"
     ]
    }
   ],
   "source": [
    "class Employee:\n",
    "\n",
    "    def __init__(self, first, last):\n",
    "        self.first = first\n",
    "        self.last = last\n",
    "        self.email = f'{first}.{last}@hotmail.com'\n",
    "\n",
    "    def fullname(self):\n",
    "        return f'{self.first} {self.last}'\n",
    "        \n",
    "    def __repr__(self):\n",
    "        return f'{self.first} {self.last}'\n",
    "    \n",
    "emp_1 = Employee('Harvey', 'Tan')\n",
    "print(emp_1)\n",
    "print(emp_1.fullname())\n",
    "print()\n",
    "\n",
    "emp_1.first = 'Jason'\n",
    "print(emp_1.first)\n",
    "print(emp_1.fullname())\n",
    "print(emp_1.email)\n",
    "\n",
    "# notice that the email did not change as the email value is created when we created the instances\n",
    "# and the full name is updated, each time the full name method is run, it grabs the latest first and last name value   \n"
   ]
  },
  {
   "cell_type": "code",
   "execution_count": 109,
   "metadata": {},
   "outputs": [
    {
     "output_type": "stream",
     "name": "stdout",
     "text": [
      "Harvey Tan\n\nJason Tan\nJason.Tan@hotmail.com\n"
     ]
    }
   ],
   "source": [
    "class Employee:\n",
    "\n",
    "    def __init__(self, first, last):\n",
    "        self.first = first\n",
    "        self.last = last\n",
    "\n",
    "    #Alternatively we can create an email method where we can call it \n",
    "    # the downside of this approach is that anyone using our code will need to change their code\n",
    "    def email(self):\n",
    "        return f'{self.first}.{self.last}@hotmail.com'\n",
    "\n",
    "    def fullname(self):\n",
    "        return f'{self.first} {self.last}'\n",
    "        \n",
    "    def __repr__(self):\n",
    "        return f'{self.first} {self.last}'\n",
    "\n",
    "emp_1 = Employee('Harvey', 'Tan')\n",
    "print(emp_1)\n",
    "print()\n",
    "\n",
    "emp_1.first = 'Jason'\n",
    "print(emp_1)\n",
    "print(emp_1.email()) # here we calling the email method and it will grab the instance's latest value"
   ]
  },
  {
   "cell_type": "code",
   "execution_count": 116,
   "metadata": {},
   "outputs": [
    {
     "output_type": "stream",
     "name": "stdout",
     "text": [
      "Harvey Tan\nHarvey\n\nJason Tan\nJason.Tan@hotmail.com\n"
     ]
    }
   ],
   "source": [
    "class Employee:\n",
    "\n",
    "    def __init__(self, first, last):\n",
    "        self.first = first\n",
    "        self.last = last\n",
    "\n",
    "    @property # we use the property decorator to allow our method to be accessed like an attribute which allow it to pull the latest instance's attrribute \n",
    "    def email(self):\n",
    "        return f'{self.first}.{self.last}@hotmail.com'\n",
    "\n",
    "    @property\n",
    "    def fullname(self):\n",
    "        return f'{self.first} {self.last}'\n",
    "        \n",
    "    def __repr__(self):\n",
    "        return f'{self.first} {self.last}'\n",
    "\n",
    "emp_1 = Employee('Harvey', 'Tan')\n",
    "print(emp_1)\n",
    "print(emp_1.first) # we are accessing the attribute \"first\"\n",
    "print()\n",
    "\n",
    "emp_1.first = 'Jason'\n",
    "print(emp_1)\n",
    "print(emp_1.email) # here we accessing the method like an attribute "
   ]
  },
  {
   "cell_type": "code",
   "execution_count": 117,
   "metadata": {},
   "outputs": [
    {
     "output_type": "execute_result",
     "data": {
      "text/plain": [
       "'Jason Tan'"
      ]
     },
     "metadata": {},
     "execution_count": 117
    }
   ],
   "source": [
    "emp_1.fullname"
   ]
  },
  {
   "cell_type": "code",
   "execution_count": 118,
   "metadata": {},
   "outputs": [
    {
     "output_type": "stream",
     "name": "stdout",
     "text": [
      "Vold Tan\n"
     ]
    }
   ],
   "source": [
    "emp_1.first = 'Vold'\n",
    "print(emp_1.fullname)"
   ]
  },
  {
   "cell_type": "code",
   "execution_count": 119,
   "metadata": {},
   "outputs": [
    {
     "output_type": "error",
     "ename": "AttributeError",
     "evalue": "can't set attribute",
     "traceback": [
      "\u001b[1;31m---------------------------------------------------------------------------\u001b[0m",
      "\u001b[1;31mAttributeError\u001b[0m                            Traceback (most recent call last)",
      "\u001b[1;32m<ipython-input-119-ff8918b02786>\u001b[0m in \u001b[0;36m<module>\u001b[1;34m\u001b[0m\n\u001b[1;32m----> 1\u001b[1;33m \u001b[0memp_1\u001b[0m\u001b[1;33m.\u001b[0m\u001b[0memail\u001b[0m \u001b[1;33m=\u001b[0m \u001b[1;34m'vold@gmail.com'\u001b[0m\u001b[1;33m\u001b[0m\u001b[1;33m\u001b[0m\u001b[0m\n\u001b[0m",
      "\u001b[1;31mAttributeError\u001b[0m: can't set attribute"
     ]
    }
   ],
   "source": [
    "emp_1.email = 'vold@gmail.com'\n",
    "# if we use the property decorator for a method, we cannot set the method/attribute without using the setter decorator "
   ]
  },
  {
   "cell_type": "code",
   "execution_count": 128,
   "metadata": {},
   "outputs": [
    {
     "output_type": "stream",
     "name": "stdout",
     "text": [
      "Harry\nPotter\nHarry.Potter@hotmail.com\n"
     ]
    }
   ],
   "source": [
    "class Employee:\n",
    "\n",
    "    def __init__(self, first, last):\n",
    "        self.first = first\n",
    "        self.last = last\n",
    "\n",
    "    @property\n",
    "    def email(self):\n",
    "        return f'{self.first}.{self.last}@hotmail.com'\n",
    "\n",
    "    @property\n",
    "    def fullname(self):\n",
    "        return f'{self.first} {self.last}'\n",
    "    @fullname.setter # this is decorator for us to set the value for the method/attribute \n",
    "    def fullname(self, name):\n",
    "        self.first = name.split()[0]\n",
    "        self.last = name.split()[1]\n",
    "    @fullname.deleter\n",
    "    def fullname(self):\n",
    "        print('Delete Name')\n",
    "        self.first = None\n",
    "        self.last = None\n",
    "\n",
    "    def __repr__(self):\n",
    "        return f'{self.first} {self.last}'\n",
    "\n",
    "emp_1 = Employee('Harvey', 'Tan')\n",
    "\n",
    "emp_1.fullname = 'Harry Potter'\n",
    "print(emp_1.first)\n",
    "print(emp_1.last)\n",
    "print(emp_1.email)"
   ]
  },
  {
   "cell_type": "code",
   "execution_count": 129,
   "metadata": {},
   "outputs": [
    {
     "output_type": "execute_result",
     "data": {
      "text/plain": [
       "Harry Potter"
      ]
     },
     "metadata": {},
     "execution_count": 129
    }
   ],
   "source": [
    "emp_1"
   ]
  },
  {
   "cell_type": "code",
   "execution_count": 131,
   "metadata": {},
   "outputs": [
    {
     "output_type": "stream",
     "name": "stdout",
     "text": [
      "Delete Name\n"
     ]
    }
   ],
   "source": [
    "del emp_1.fullname"
   ]
  },
  {
   "cell_type": "code",
   "execution_count": 132,
   "metadata": {},
   "outputs": [
    {
     "output_type": "execute_result",
     "data": {
      "text/plain": [
       "None None"
      ]
     },
     "metadata": {},
     "execution_count": 132
    }
   ],
   "source": [
    "emp_1"
   ]
  }
 ],
 "metadata": {
  "kernelspec": {
   "display_name": "Python 3.7.4 64-bit ('base': conda)",
   "language": "python",
   "name": "python37464bitbaseconda6db2893f0e1b4b6ea66d23044bec9473"
  },
  "language_info": {
   "codemirror_mode": {
    "name": "ipython",
    "version": 3
   },
   "file_extension": ".py",
   "mimetype": "text/x-python",
   "name": "python",
   "nbconvert_exporter": "python",
   "pygments_lexer": "ipython3",
   "version": "3.8.3-final"
  }
 },
 "nbformat": 4,
 "nbformat_minor": 2
}