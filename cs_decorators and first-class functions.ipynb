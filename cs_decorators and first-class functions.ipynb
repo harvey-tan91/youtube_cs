{
 "cells": [
  {
   "cell_type": "markdown",
   "metadata": {},
   "source": [
    "# First Class Function"
   ]
  },
  {
   "cell_type": "code",
   "execution_count": 2,
   "metadata": {},
   "outputs": [],
   "source": [
    "# function is just another object\n",
    "\n",
    "def square(x):\n",
    "    return x * x\n",
    "\n",
    "def cube(x):\n",
    "    return x * x * x\n",
    "\n",
    "f = square(5) # this will execute the function"
   ]
  },
  {
   "cell_type": "code",
   "execution_count": 3,
   "metadata": {
    "tags": []
   },
   "outputs": [
    {
     "output_type": "stream",
     "name": "stdout",
     "text": [
      "<function square at 0x000001DC0B209CA0>\n25\n"
     ]
    }
   ],
   "source": [
    "print(square)\n",
    "print(f)"
   ]
  },
  {
   "cell_type": "code",
   "execution_count": 6,
   "metadata": {
    "tags": []
   },
   "outputs": [
    {
     "output_type": "stream",
     "name": "stdout",
     "text": [
      "<function square at 0x0000010E3A37ACA0>\n<function square at 0x0000010E3A37ACA0>\n"
     ]
    }
   ],
   "source": [
    "f = square \n",
    "# f is now a function as well\n",
    "# we assign the function to a variable\n",
    "\n",
    "print(square)\n",
    "print(f)"
   ]
  },
  {
   "cell_type": "markdown",
   "metadata": {},
   "source": [
    "# A higher-order/first class function is one where it accepts other function as agruments or returns function as their result "
   ]
  },
  {
   "cell_type": "code",
   "execution_count": 4,
   "metadata": {},
   "outputs": [],
   "source": [
    "# first class function allow us to treat function like any other object\n",
    "# we can pass the function as an agrument to another function \n",
    "# we can assign a variable to a function"
   ]
  },
  {
   "cell_type": "code",
   "execution_count": 6,
   "metadata": {},
   "outputs": [],
   "source": [
    "def cube(x):\n",
    "    return x**3"
   ]
  },
  {
   "cell_type": "code",
   "execution_count": 9,
   "metadata": {},
   "outputs": [
    {
     "output_type": "execute_result",
     "data": {
      "text/plain": [
       "[1, 4, 9, 16, 25]"
      ]
     },
     "metadata": {},
     "execution_count": 9
    }
   ],
   "source": [
    "def my_map(func, arg_list):\n",
    "    return [func(i) for i in arg_list]\n",
    "\n",
    "squares = my_map(square, [1,2,3,4,5]) # my_map function is a function that accepts another function\n",
    "squares"
   ]
  },
  {
   "cell_type": "code",
   "execution_count": 12,
   "metadata": {
    "tags": []
   },
   "outputs": [],
   "source": [
    "def logger(msg):\n",
    "\n",
    "    def log_message():\n",
    "        print('Log:', msg)\n",
    "\n",
    "    return log_message() # we are returning the result of executing the function"
   ]
  },
  {
   "cell_type": "code",
   "execution_count": 25,
   "metadata": {
    "tags": []
   },
   "outputs": [
    {
     "output_type": "stream",
     "name": "stdout",
     "text": [
      "Log: Hi\n<class 'NoneType'>\n"
     ]
    }
   ],
   "source": [
    "log_hi = logger('Hi')\n",
    "print(type(log_hi))"
   ]
  },
  {
   "cell_type": "code",
   "execution_count": 28,
   "metadata": {},
   "outputs": [],
   "source": [
    "def logger(msg):\n",
    "\n",
    "    def log_message():\n",
    "        print('Log:', msg)\n",
    "\n",
    "    return log_message # we are returning the function"
   ]
  },
  {
   "cell_type": "code",
   "execution_count": 33,
   "metadata": {
    "tags": []
   },
   "outputs": [
    {
     "output_type": "stream",
     "name": "stdout",
     "text": [
      "<class 'function'>\n<function logger.<locals>.log_message at 0x000001DC0A8E11F0>\nLog: Hi\n"
     ]
    }
   ],
   "source": [
    "log_hi = logger(\"Hi\")\n",
    "print(type(log_hi))\n",
    "print(log_hi)\n",
    "log_hi()"
   ]
  },
  {
   "cell_type": "code",
   "execution_count": 10,
   "metadata": {
    "tags": []
   },
   "outputs": [
    {
     "output_type": "stream",
     "name": "stdout",
     "text": "Log: Hi!\n"
    }
   ],
   "source": [
    "log_hi = logger(\"Hi!\") # log_hi is now a function\n",
    "log_hi()"
   ]
  },
  {
   "cell_type": "code",
   "execution_count": 39,
   "metadata": {
    "tags": []
   },
   "outputs": [
    {
     "output_type": "stream",
     "name": "stdout",
     "text": [
      "<class 'function'>\n\n<h1>this is my headline</h1>\n<h1>this is my alternative headline</h1>\n\n<p>This is the start of a paragraph</p>\n"
     ]
    }
   ],
   "source": [
    "def html_tag(tag):\n",
    "\n",
    "    def wrap_text(msg):\n",
    "        print(f'<{tag}>{msg}</{tag}>')\n",
    "\n",
    "    return wrap_text # we are returning a function here\n",
    "\n",
    "print_h1 = html_tag('h1') # note that we are calling the function here, only by calling the function, we are return the function as the return value\n",
    "# we are assigning a function with a defined parameter here, to a variable here | note that the defined function return another function \n",
    "\n",
    "print(type(print_h1))\n",
    "print()\n",
    "print_h1('this is my headline')\n",
    "print_h1(\"this is my alternative headline\")\n",
    "\n",
    "print()\n",
    "print_p = html_tag('p')\n",
    "print_p('This is the start of a paragraph')"
   ]
  },
  {
   "cell_type": "code",
   "execution_count": 35,
   "metadata": {
    "tags": []
   },
   "outputs": [
    {
     "output_type": "stream",
     "name": "stdout",
     "text": [
      "<function html_tag.<locals>.wrap_text at 0x000001DC0A8E1160>\n"
     ]
    }
   ],
   "source": [
    "print(print_h1)"
   ]
  },
  {
   "cell_type": "markdown",
   "metadata": {},
   "source": [
    "# Closure"
   ]
  },
  {
   "cell_type": "code",
   "execution_count": 13,
   "metadata": {
    "tags": []
   },
   "outputs": [
    {
     "output_type": "stream",
     "name": "stdout",
     "text": "Hi\n"
    }
   ],
   "source": [
    "def outer_function():\n",
    "    message = \"Hi\"\n",
    "\n",
    "    def inner_function():\n",
    "        print(message)\n",
    "\n",
    "        # when the inner_function access the 'message' variable, it is actually a free variable becasue it is not defined in the inner function but we still have access to it within the inner function \n",
    "\n",
    "    return inner_function() # this return the execution of the function\n",
    "\n",
    "outer_function() # we are calling the function and we should expect the return value of the function"
   ]
  },
  {
   "cell_type": "code",
   "execution_count": 40,
   "metadata": {},
   "outputs": [
    {
     "output_type": "stream",
     "name": "stdout",
     "text": [
      "inner_function\n<function outer_function.<locals>.inner_function at 0x000001DC0B17F8B0>\n"
     ]
    }
   ],
   "source": [
    "def outer_function():\n",
    "    message = \"Hi\"\n",
    "\n",
    "    def inner_function():\n",
    "        print(message)\n",
    "        # when the inner_function access the 'message' variable, it is actually a free variable becasue it is not defined in the inner function but we still have access to it within the inner function \n",
    "\n",
    "    return inner_function # the return value of this function is a function. NOT the function call like the above \n",
    "\n",
    "my_func = outer_function()\n",
    "\n",
    "print(my_func.__name__)\n",
    "print(my_func)"
   ]
  },
  {
   "cell_type": "code",
   "execution_count": 15,
   "metadata": {},
   "outputs": [
    {
     "output_type": "execute_result",
     "data": {
      "text/plain": "<function __main__.outer_function.<locals>.inner_function()>"
     },
     "metadata": {},
     "execution_count": 15
    }
   ],
   "source": [
    "outer_function()"
   ]
  },
  {
   "cell_type": "code",
   "execution_count": 17,
   "metadata": {
    "tags": []
   },
   "outputs": [
    {
     "output_type": "stream",
     "name": "stdout",
     "text": "Hi\n"
    }
   ],
   "source": [
    "my_func() # my_func is a closure function"
   ]
  },
  {
   "cell_type": "code",
   "execution_count": 18,
   "metadata": {},
   "outputs": [],
   "source": [
    "# A closure function is an inner function that remembers and has access to variables in the local scope in which it was created even after the outer function has finished executing"
   ]
  },
  {
   "cell_type": "code",
   "execution_count": 54,
   "metadata": {
    "tags": []
   },
   "outputs": [
    {
     "output_type": "stream",
     "name": "stdout",
     "text": [
      "<class 'function'>\ninner_function\nHi\n\n<class 'function'>\ninner_function\nHello\n"
     ]
    }
   ],
   "source": [
    "def outer_function(msg):\n",
    "    message = msg\n",
    "    def inner_function():\n",
    "        print(message)\n",
    "        # when the inner_function access the 'message' variable, it is actually a free variable becasue it is not defined in the inner function but we still have access to it within the inner function \n",
    "    return inner_function\n",
    "    # we are returning a function, NOT a function call\n",
    "\n",
    "hi_func = outer_function('Hi') # we are assiging the function with a defined parameter to a variable\n",
    "hello_function = outer_function('Hello') # this function is ready to be executed\n",
    "\n",
    "print(type(hi_func))\n",
    "print(hi_func.__name__)\n",
    "hi_func() # function call here\n",
    "\n",
    "print()\n",
    "\n",
    "print(type(hello_function))\n",
    "print(hello_function.__name__)\n",
    "hello_function()"
   ]
  },
  {
   "cell_type": "code",
   "execution_count": 20,
   "metadata": {},
   "outputs": [],
   "source": [
    "# closure closes over the free variable from their environment"
   ]
  },
  {
   "cell_type": "markdown",
   "metadata": {},
   "source": [
    "# Decorators"
   ]
  },
  {
   "cell_type": "code",
   "execution_count": 21,
   "metadata": {},
   "outputs": [],
   "source": [
    "# A decorator is just a function that takes another function as an argument, adds some kind of functionality, and then returns another function, without altering the source code of the original function that we have passed in"
   ]
  },
  {
   "cell_type": "code",
   "execution_count": 22,
   "metadata": {},
   "outputs": [],
   "source": [
    "def decorator_function(message):\n",
    "    def wrapper_function():\n",
    "        print(message)\n",
    "    return wrapper_function\n"
   ]
  },
  {
   "cell_type": "code",
   "execution_count": 23,
   "metadata": {},
   "outputs": [],
   "source": [
    "# what if we want to pass in a function into the agrument"
   ]
  },
  {
   "cell_type": "code",
   "execution_count": 12,
   "metadata": {
    "tags": []
   },
   "outputs": [
    {
     "output_type": "stream",
     "name": "stdout",
     "text": [
      "display something please\n"
     ]
    }
   ],
   "source": [
    "def decorator_function(original_function):\n",
    "    def wrapper_function():\n",
    "        return original_function()\n",
    "        \n",
    "    return wrapper_function\n",
    "\n",
    "def display():\n",
    "    print(\"display something please\")\n",
    "\n",
    "\n",
    "decorated_display = decorator_function(display)\n",
    "decorated_display()\n"
   ]
  },
  {
   "cell_type": "code",
   "execution_count": 7,
   "metadata": {
    "tags": []
   },
   "outputs": [
    {
     "output_type": "stream",
     "name": "stdout",
     "text": [
      "name of the original function that is being executed: display\ndisplay dunction ran\n"
     ]
    }
   ],
   "source": [
    "def decorator_function(original_function):\n",
    "    def wrapper_function():\n",
    "        print(f'name of the original function that is being executed: {original_function.__name__}')\n",
    "        original_function()\n",
    "    return wrapper_function\n",
    "\n",
    "def display():\n",
    "    print(\"display dunction ran\")\n",
    "\n",
    "decorated_display = decorator_function(display)\n",
    "\n",
    "decorated_display()"
   ]
  },
  {
   "cell_type": "code",
   "execution_count": 27,
   "metadata": {},
   "outputs": [
    {
     "output_type": "stream",
     "name": "stdout",
     "text": [
      "name of the original function that is being executed: display\ndisplay dunction ran\n"
     ]
    }
   ],
   "source": [
    "# Option 1\n",
    "@decorator_function\n",
    "def display():\n",
    "    print(\"display dunction ran\")\n",
    "display()"
   ]
  },
  {
   "cell_type": "code",
   "execution_count": 30,
   "metadata": {},
   "outputs": [
    {
     "output_type": "stream",
     "name": "stdout",
     "text": [
      "name of the original function that is being executed: display\ndisplay dunction ran\n"
     ]
    }
   ],
   "source": [
    "# Option 2\n",
    "display = decorator_function(display)\n",
    "display()\n",
    "# Option 1 and 2 have the same effect"
   ]
  },
  {
   "cell_type": "code",
   "execution_count": 34,
   "metadata": {},
   "outputs": [
    {
     "output_type": "execute_result",
     "data": {
      "text/plain": [
       "'\\n==================\\n@decorator_function\\ndef display():\\n    print(\"display dunction ran\")\\n==================\\n\\nis exactly the same as \\n\\n==================\\ndef display():\\n    print(\"display dunction ran\")\\ndisplay = decorator_function(display)\\n==================\\n'"
      ]
     },
     "metadata": {},
     "execution_count": 34
    }
   ],
   "source": [
    "'''\n",
    "==================\n",
    "@decorator_function\n",
    "def display():\n",
    "    print(\"display dunction ran\")\n",
    "==================\n",
    "\n",
    "is exactly the same as \n",
    "\n",
    "==================\n",
    "def display():\n",
    "    print(\"display dunction ran\")\n",
    "display = decorator_function(display)\n",
    "==================\n",
    "'''"
   ]
  },
  {
   "source": [
    "# Decorators function with agruments\n",
    "- if our original function takes in agruments, we need to alter the decorator function with args and kwargs "
   ],
   "cell_type": "markdown",
   "metadata": {}
  },
  {
   "cell_type": "code",
   "execution_count": 8,
   "metadata": {},
   "outputs": [],
   "source": [
    "def new_function(original_function):\n",
    "\n",
    "    # for a decorater to take in positional agruments, we need the wrapper function to take in any position or keyword arguments and have our original function to executed with the said agruments\n",
    "\n",
    "    def wrapper_function(*args, **kwargs):\n",
    "        print(f'wrapper executed this before {original_function.__name__}')\n",
    "        return original_function(*args, **kwargs)\n",
    "\n",
    "    return wrapper_function\n"
   ]
  },
  {
   "cell_type": "code",
   "execution_count": 15,
   "metadata": {},
   "outputs": [
    {
     "output_type": "stream",
     "name": "stdout",
     "text": [
      "display_info ran with agruments 1) Harvey and 2) 30\n"
     ]
    }
   ],
   "source": [
    "def display_info(name, age):\n",
    "    print(f'display_info ran with agruments 1) {name} and 2) {age}')\n",
    "display_info('Harvey', 30)"
   ]
  },
  {
   "cell_type": "code",
   "execution_count": 17,
   "metadata": {},
   "outputs": [
    {
     "output_type": "stream",
     "name": "stdout",
     "text": [
      "wrapper executed this before display_info\ndisplay_info ran with agruments 1) Harvey and 2) 30\n"
     ]
    }
   ],
   "source": [
    "a = new_function(display_info)\n",
    "a('Harvey', '30')\n"
   ]
  },
  {
   "source": [
    "# Class decorator"
   ],
   "cell_type": "markdown",
   "metadata": {}
  },
  {
   "cell_type": "code",
   "execution_count": 20,
   "metadata": {},
   "outputs": [],
   "source": [
    "def display_info(name, age):\n",
    "    print(f'display_info ran with agruments 1) {name} and 2) {age}')"
   ]
  },
  {
   "cell_type": "code",
   "execution_count": 21,
   "metadata": {},
   "outputs": [],
   "source": [
    "class decorator_class(object):\n",
    "    def __init__(self, original_function):\n",
    "        self.original_function = original_function\n",
    "        # this will tie the original function with the instance of this class\n",
    "    \n",
    "    def __call__(self, *args, **kwargs):\n",
    "        print(f'call method executed this before {self.original_function.__name__}')\n",
    "        return self.original_function(*args, **kwargs)    "
   ]
  },
  {
   "cell_type": "code",
   "execution_count": 22,
   "metadata": {},
   "outputs": [
    {
     "output_type": "stream",
     "name": "stdout",
     "text": [
      "call method executed this before display_info\ndisplay_info ran with agruments 1) Harvey and 2) 30\n"
     ]
    }
   ],
   "source": [
    "@decorator_class\n",
    "def display_info(name, age):\n",
    "    print(f'display_info ran with agruments 1) {name} and 2) {age}')\n",
    "\n",
    "display_info('Harvey' , 30) "
   ]
  },
  {
   "cell_type": "code",
   "execution_count": null,
   "metadata": {},
   "outputs": [],
   "source": [
    "# A practical example"
   ]
  },
  {
   "cell_type": "code",
   "execution_count": 24,
   "metadata": {},
   "outputs": [],
   "source": [
    "import os\n",
    "import logging\n",
    "os.chdir(r'C:\\Users\\tanzh\\Documents\\Python\\cs channel')"
   ]
  },
  {
   "cell_type": "code",
   "execution_count": 27,
   "metadata": {},
   "outputs": [
    {
     "output_type": "stream",
     "name": "stdout",
     "text": [
      "display_info ran with agruments 1) Harvey and 2) 30\n"
     ]
    }
   ],
   "source": [
    "def my_logger(original_function):\n",
    "\n",
    "    import logging\n",
    "    logging.basicConfig(filename=f'decorator_log_file_{original_function.__name__}.log', level=logging.INFO) \n",
    "    # we are creating a log file with the name of the function being passes through, as the name of the log file\n",
    "\n",
    "    def wrapper_function(*args, **kwargs):\n",
    "        logging.info(f'The following function is being run: {original_function.__name__}')\n",
    "        logging.info(f'Ran with agrs: {args} and kwargs: {kwargs}')\n",
    "        return original_function(*args, **kwargs)\n",
    "\n",
    "    return wrapper_function\n",
    "\n",
    "@my_logger\n",
    "def display_info(name, age):\n",
    "    print(f'display_info ran with agruments 1) {name} and 2) {age}')\n",
    "\n",
    "display_info('Harvey', 30)"
   ]
  },
  {
   "cell_type": "code",
   "execution_count": 29,
   "metadata": {},
   "outputs": [
    {
     "output_type": "stream",
     "name": "stdout",
     "text": [
      "display_info ran with agruments 1) Harvey and 2) 30\nNone\nthe function: display_info ran in 1.0049982000000455 seconds\n"
     ]
    }
   ],
   "source": [
    "def my_timer(orig_function):\n",
    "    from timeit import default_timer as timer\n",
    "\n",
    "    def wrapper_function(*args, **kwargs):\n",
    "        start = timer()\n",
    "        result = orig_function(*args, **kwargs)\n",
    "        end = timer()\n",
    "        print(f'the function: {orig_function.__name__} ran in {end - start} seconds')\n",
    "        return result\n",
    "\n",
    "    return wrapper_function\n",
    "\n",
    "import time\n",
    "@my_timer\n",
    "def display_info(name, age):\n",
    "    time.sleep(1)\n",
    "    print(f'display_info ran with agruments 1) {name} and 2) {age}')\n",
    "\n",
    "display_info('Harvey', 30)"
   ]
  },
  {
   "source": [
    "# Applying two decoraters to a function"
   ],
   "cell_type": "markdown",
   "metadata": {}
  },
  {
   "cell_type": "code",
   "execution_count": 14,
   "metadata": {},
   "outputs": [],
   "source": [
    "def my_logger(original_function):\n",
    "\n",
    "    import logging\n",
    "    logging.basicConfig(filename=f'decorator_log_file_{original_function.__name__}.log', level=logging.INFO) \n",
    "    # we are creating a log file with the name of the function being passes through, as the name of the log file\n",
    "\n",
    "    def wrapper_function_logging(*args, **kwargs):\n",
    "        logging.info(f'The following function is being run: {original_function.__name__}')\n",
    "        logging.info(f'Ran with agrs: {args} and kwargs: {kwargs}')\n",
    "        return original_function(*args, **kwargs)\n",
    "\n",
    "    return wrapper_function_logging\n",
    "\n",
    "def my_timer(orig_function):\n",
    "    from timeit import default_timer as timer\n",
    "\n",
    "    def wrapper_function_timer(*args, **kwargs):\n",
    "        start = timer()\n",
    "        result = orig_function(*args, **kwargs)\n",
    "        end = timer()\n",
    "        print(f'the function: {orig_function.__name__} ran in {end - start} seconds')\n",
    "        return result\n",
    "\n",
    "    return wrapper_function_timer"
   ]
  },
  {
   "cell_type": "code",
   "execution_count": 15,
   "metadata": {},
   "outputs": [
    {
     "output_type": "stream",
     "name": "stdout",
     "text": [
      "display_info ran with agruments 1) Harvey and 2) 30\nthe function: wrapper_function_logging ran in 1.0109388000000763 seconds\n"
     ]
    }
   ],
   "source": [
    "import time\n",
    "\n",
    "@my_timer\n",
    "@my_logger # this will get exeuted first then followed by @my_timer\n",
    "def display_info(name, age):\n",
    "    time.sleep(1)\n",
    "    print(f'display_info ran with agruments 1) {name} and 2) {age}')\n",
    "\n",
    "display_info('Harvey', 30)\n",
    "\n",
    "# the above is equal to:\n",
    "# my_timer(my_logger(dusplay_info))"
   ]
  },
  {
   "cell_type": "code",
   "execution_count": null,
   "metadata": {},
   "outputs": [],
   "source": [
    "\"\"\"\n",
    "INFO:root:The following function is being run: display_info\n",
    "INFO:root:Ran with agrs: ('Harvey', 30) and kwargs: {}\n",
    "\"\"\""
   ]
  },
  {
   "cell_type": "code",
   "execution_count": 16,
   "metadata": {},
   "outputs": [
    {
     "output_type": "stream",
     "name": "stdout",
     "text": [
      "display_info ran with agruments 1) Harvey and 2) 30\nthe function: display_info ran in 1.0147538000001077 seconds\n"
     ]
    }
   ],
   "source": [
    "import time\n",
    "\n",
    "@my_logger \n",
    "@my_timer\n",
    "def display_info(name, age):\n",
    "    time.sleep(1)\n",
    "    print(f'display_info ran with agruments 1) {name} and 2) {age}')\n",
    "\n",
    "display_info('Harvey', 30)\n"
   ]
  },
  {
   "cell_type": "code",
   "execution_count": null,
   "metadata": {},
   "outputs": [],
   "source": [
    "\"\"\"\n",
    "INFO:root:The following function is being run: wrapper_function_timer\n",
    "INFO:root:Ran with agrs: ('Harvey', 30) and kwargs: {}\n",
    "\n",
    "\"\"\""
   ]
  },
  {
   "source": [
    "# We can mitigate the above with wraps decorator from the functools module "
   ],
   "cell_type": "markdown",
   "metadata": {}
  },
  {
   "cell_type": "code",
   "execution_count": 17,
   "metadata": {},
   "outputs": [],
   "source": [
    "from functools import wraps\n",
    "\n",
    "def my_logger(original_function):\n",
    "\n",
    "    import logging\n",
    "    logging.basicConfig(filename=f'decorator_log_file_{original_function.__name__}.log', level=logging.INFO) \n",
    "\n",
    "    @wraps(original_function)\n",
    "    def wrapper_function_logging(*args, **kwargs):\n",
    "        logging.info(f'The following function is being run: {original_function.__name__}')\n",
    "        logging.info(f'Ran with agrs: {args} and kwargs: {kwargs}')\n",
    "        return original_function(*args, **kwargs)\n",
    "\n",
    "    return wrapper_function_logging\n",
    "\n",
    "def my_timer(orig_function):\n",
    "    from timeit import default_timer as timer\n",
    "\n",
    "    @wraps(orig_function)\n",
    "    def wrapper_function_timer(*args, **kwargs):\n",
    "        start = timer()\n",
    "        result = orig_function(*args, **kwargs)\n",
    "        end = timer()\n",
    "        print(f'the function: {orig_function.__name__} ran in {end - start} seconds')\n",
    "        return result\n",
    "\n",
    "    return wrapper_function_timer\n"
   ]
  },
  {
   "cell_type": "code",
   "execution_count": 18,
   "metadata": {},
   "outputs": [
    {
     "output_type": "stream",
     "name": "stdout",
     "text": [
      "display_info ran with agruments 1) Harvey and 2) 30\nthe function: display_info ran in 1.0074328999999125 seconds\n"
     ]
    }
   ],
   "source": [
    "@my_logger \n",
    "@my_timer\n",
    "def display_info(name, age):\n",
    "    time.sleep(1)\n",
    "    print(f'display_info ran with agruments 1) {name} and 2) {age}')\n",
    "\n",
    "display_info('Harvey', 30)"
   ]
  },
  {
   "cell_type": "code",
   "execution_count": null,
   "metadata": {},
   "outputs": [],
   "source": [
    "\"\"\"\n",
    "INFO:root:The following function is being run: display_info\n",
    "INFO:root:Ran with agrs: ('Harvey', 30) and kwargs: {}\n",
    "\"\"\""
   ]
  },
  {
   "cell_type": "code",
   "execution_count": 13,
   "metadata": {},
   "outputs": [],
   "source": []
  },
  {
   "cell_type": "code",
   "execution_count": null,
   "metadata": {},
   "outputs": [],
   "source": []
  },
  {
   "cell_type": "code",
   "execution_count": null,
   "metadata": {},
   "outputs": [],
   "source": []
  },
  {
   "cell_type": "code",
   "execution_count": null,
   "metadata": {},
   "outputs": [],
   "source": []
  },
  {
   "cell_type": "code",
   "execution_count": null,
   "metadata": {},
   "outputs": [],
   "source": []
  },
  {
   "cell_type": "code",
   "execution_count": null,
   "metadata": {},
   "outputs": [],
   "source": []
  },
  {
   "cell_type": "code",
   "execution_count": null,
   "metadata": {},
   "outputs": [],
   "source": []
  },
  {
   "cell_type": "code",
   "execution_count": null,
   "metadata": {},
   "outputs": [],
   "source": []
  },
  {
   "cell_type": "code",
   "execution_count": null,
   "metadata": {},
   "outputs": [],
   "source": []
  }
 ],
 "metadata": {
  "kernelspec": {
   "display_name": "Python 3.7.4 64-bit ('base': conda)",
   "language": "python",
   "name": "python37464bitbaseconda6db2893f0e1b4b6ea66d23044bec9473"
  },
  "language_info": {
   "codemirror_mode": {
    "name": "ipython",
    "version": 3
   },
   "file_extension": ".py",
   "mimetype": "text/x-python",
   "name": "python",
   "nbconvert_exporter": "python",
   "pygments_lexer": "ipython3",
   "version": "3.8.3-final"
  }
 },
 "nbformat": 4,
 "nbformat_minor": 2
}