{
 "metadata": {
  "language_info": {
   "codemirror_mode": {
    "name": "ipython",
    "version": 3
   },
   "file_extension": ".py",
   "mimetype": "text/x-python",
   "name": "python",
   "nbconvert_exporter": "python",
   "pygments_lexer": "ipython3",
   "version": "3.7.4-final"
  },
  "orig_nbformat": 2,
  "kernelspec": {
   "name": "python_defaultSpec_1599984274203",
   "display_name": "Python 3.7.4 64-bit ('base': conda)"
  }
 },
 "nbformat": 4,
 "nbformat_minor": 2,
 "cells": [
  {
   "source": [
    "# Web Scraping"
   ],
   "cell_type": "markdown",
   "metadata": {}
  },
  {
   "source": [
    "* Parser allows us to parse through the HTML text\n",
    "* lxml and html5lib are external lib\n",
    "* lxml will be used in this notebook\n",
    "* html.parser is Python bulit-in HTML parser"
   ],
   "cell_type": "markdown",
   "metadata": {}
  },
  {
   "cell_type": "code",
   "execution_count": 70,
   "metadata": {},
   "outputs": [],
   "source": [
    "import requests as r\n",
    "import os\n",
    "from bs4 import BeautifulSoup\n",
    "import csv"
   ]
  },
  {
   "source": [
    "# Web Scraping with Simple HTML Text"
   ],
   "cell_type": "markdown",
   "metadata": {}
  },
  {
   "cell_type": "code",
   "execution_count": 11,
   "metadata": {},
   "outputs": [],
   "source": [
    "os.chdir(r'C:\\Users\\tanzh\\Documents\\Python\\Other Materials\\web_scraping')\n",
    "with open('simple_html.html') as html_file:\n",
    "    soup = BeautifulSoup(html_file, 'lxml')"
   ]
  },
  {
   "cell_type": "code",
   "execution_count": 12,
   "metadata": {
    "tags": []
   },
   "outputs": [
    {
     "output_type": "stream",
     "name": "stdout",
     "text": "<!DOCTYPE html>\n<html class=\"no-js\" lang=\"\">\n <head>\n  <title>\n   Test - A Sample Website\n  </title>\n  <meta charset=\"utf-8\"/>\n  <link href=\"css/normalize.css\" rel=\"stylesheet\"/>\n  <link href=\"css/main.css\" rel=\"stylesheet\"/>\n </head>\n <body>\n  <h1 id=\"site_title\">\n   Test Website\n  </h1>\n  <hr/>\n  <div class=\"article\">\n   <h2>\n    <a href=\"article_1.html\">\n     Article 1 Headline\n    </a>\n   </h2>\n   <p>\n    This is a summary of article 1\n   </p>\n  </div>\n  <hr/>\n  <div class=\"article\">\n   <h2>\n    <a href=\"article_2.html\">\n     Article 2 Headline\n    </a>\n   </h2>\n   <p>\n    This is a summary of article 2\n   </p>\n  </div>\n  <hr/>\n  <div class=\"footer\">\n   <p>\n    Footer Information\n   </p>\n  </div>\n  <script src=\"js/vendor/modernizr-3.5.0.min.js\">\n  </script>\n  <script src=\"js/plugins.js\">\n  </script>\n  <script src=\"js/main.js\">\n  </script>\n </body>\n</html>\n"
    }
   ],
   "source": [
    "print(soup.prettify())"
   ]
  },
  {
   "cell_type": "code",
   "execution_count": 16,
   "metadata": {
    "tags": []
   },
   "outputs": [
    {
     "output_type": "stream",
     "name": "stdout",
     "text": "<title>Test - A Sample Website</title>\nTest - A Sample Website\n"
    }
   ],
   "source": [
    "print(soup.title) # this will retrieve the first title tag on the page\n",
    "print(soup.title.text) # this will retrieve the first title tag on the page"
   ]
  },
  {
   "cell_type": "code",
   "execution_count": 17,
   "metadata": {},
   "outputs": [
    {
     "output_type": "execute_result",
     "data": {
      "text/plain": "<div class=\"article\">\n<h2><a href=\"article_1.html\">Article 1 Headline</a></h2>\n<p>This is a summary of article 1</p>\n</div>"
     },
     "metadata": {},
     "execution_count": 17
    }
   ],
   "source": [
    "soup.div # this retive the div tag in the html"
   ]
  },
  {
   "cell_type": "code",
   "execution_count": 20,
   "metadata": {},
   "outputs": [
    {
     "output_type": "execute_result",
     "data": {
      "text/plain": "<div class=\"article\">\n<h2><a href=\"article_1.html\">Article 1 Headline</a></h2>\n<p>This is a summary of article 1</p>\n</div>"
     },
     "metadata": {},
     "execution_count": 20
    }
   ],
   "source": [
    "soup.find('div') # this is the same as the above "
   ]
  },
  {
   "cell_type": "code",
   "execution_count": 21,
   "metadata": {},
   "outputs": [
    {
     "output_type": "execute_result",
     "data": {
      "text/plain": "<div class=\"footer\">\n<p>Footer Information</p>\n</div>"
     },
     "metadata": {},
     "execution_count": 21
    }
   ],
   "source": [
    "soup.find('div', class_='footer') # this allow us to find the div of a particular class"
   ]
  },
  {
   "cell_type": "code",
   "execution_count": 25,
   "metadata": {
    "tags": []
   },
   "outputs": [
    {
     "output_type": "stream",
     "name": "stdout",
     "text": "<div class=\"article\">\n<h2><a href=\"article_1.html\">Article 1 Headline</a></h2>\n<p>This is a summary of article 1</p>\n</div>\n\n\nArticle 1 Headline\n\n\nThis is a summary of article 1\n"
    }
   ],
   "source": [
    "# the below allow us to access the individual tags in a div\n",
    "\n",
    "article = soup.find('div', class_='article')\n",
    "headline = article.h2.a.text\n",
    "summary = article.p.text\n",
    "\n",
    "print(article)\n",
    "print('\\n')\n",
    "print(headline)\n",
    "print('\\n')\n",
    "print(summary)"
   ]
  },
  {
   "cell_type": "code",
   "execution_count": 34,
   "metadata": {
    "tags": []
   },
   "outputs": [
    {
     "output_type": "stream",
     "name": "stdout",
     "text": "Article 1 Headline\nThis is a summary of article 1\n\n\nArticle 2 Headline\nThis is a summary of article 2\n\n\n==============\n\n\n['Article 1 Headline', 'Article 2 Headline']\n['This is a summary of article 1', 'This is a summary of article 2']\n"
    }
   ],
   "source": [
    "# with the above, we can find all the div with the same class\n",
    "\n",
    "# soup.findall('div', class_='article') ---> this returns a list\n",
    "\n",
    "headline_list = []\n",
    "summary_list = []\n",
    "\n",
    "\n",
    "for article in soup.find_all('div', class_='article'):\n",
    "    headline = article.h2.a.text\n",
    "    summary = article.p.text\n",
    "    \n",
    "    headline_list += [headline]\n",
    "    summary_list += [summary]\n",
    "\n",
    "    print(headline)\n",
    "    print(summary)\n",
    "\n",
    "    print('\\n')\n",
    "\n",
    "print('==============')\n",
    "print('\\n')\n",
    "\n",
    "print(headline_list)\n",
    "print(summary_list)"
   ]
  },
  {
   "source": [
    "# Web Scrapping on Corey Schafer Website"
   ],
   "cell_type": "markdown",
   "metadata": {}
  },
  {
   "cell_type": "code",
   "execution_count": 56,
   "metadata": {
    "tags": []
   },
   "outputs": [
    {
     "output_type": "stream",
     "name": "stdout",
     "text": "<article class=\"post-1670 post type-post status-publish format-standard has-post-thumbnail category-development category-python tag-gzip tag-shutil tag-zip tag-zipfile entry\" itemscope=\"\" itemtype=\"https://schema.org/CreativeWork\">\n <header class=\"entry-header\">\n  <h2 class=\"entry-title\" itemprop=\"headline\">\n   <a class=\"entry-title-link\" href=\"https://coreyms.com/development/python/python-tutorial-zip-files-creating-and-extracting-zip-archives\" rel=\"bookmark\">\n    Python Tutorial: Zip Files – Creating and Extracting Zip Archives\n   </a>\n  </h2>\n  <p class=\"entry-meta\">\n   <time class=\"entry-time\" datetime=\"2019-11-19T13:02:37-05:00\" itemprop=\"datePublished\">\n    November 19, 2019\n   </time>\n   by\n   <span class=\"entry-author\" itemprop=\"author\" itemscope=\"\" itemtype=\"https://schema.org/Person\">\n    <a class=\"entry-author-link\" href=\"https://coreyms.com/author/coreymschafer\" itemprop=\"url\" rel=\"author\">\n     <span class=\"entry-author-name\" itemprop=\"name\">\n      Corey Schafer\n     </span>\n    </a>\n   </span>\n   <span class=\"entry-comments-link\">\n    <a href=\"https://coreyms.com/development/python/python-tutorial-zip-files-creating-and-extracting-zip-archives#respond\">\n     <span class=\"dsq-postid\" data-dsqidentifier=\"1670 http://coreyms.com/?p=1670\">\n      Leave a Comment\n     </span>\n    </a>\n   </span>\n  </p>\n </header>\n <div class=\"entry-content\" itemprop=\"text\">\n  <p>\n   In this video, we will be learning how to create and extract zip archives. We will start by using the zipfile module, and then we will see how to do this using the shutil module. We will learn how to do this with single files and directories, as well as learning how to use gzip as well. Let’s get started…\n   <br/>\n  </p>\n  <span class=\"embed-youtube\" style=\"text-align:center; display: block;\">\n   <iframe allowfullscreen=\"true\" class=\"youtube-player\" height=\"360\" src=\"https://www.youtube.com/embed/z0gguhEmWiY?version=3&amp;rel=1&amp;fs=1&amp;autohide=2&amp;showsearch=0&amp;showinfo=1&amp;iv_load_policy=1&amp;wmode=transparent\" style=\"border:0;\" width=\"640\">\n   </iframe>\n  </span>\n </div>\n <footer class=\"entry-footer\">\n  <p class=\"entry-meta\">\n   <span class=\"entry-categories\">\n    Filed Under:\n    <a href=\"https://coreyms.com/category/development\" rel=\"category tag\">\n     Development\n    </a>\n    ,\n    <a href=\"https://coreyms.com/category/development/python\" rel=\"category tag\">\n     Python\n    </a>\n   </span>\n   <span class=\"entry-tags\">\n    Tagged With:\n    <a href=\"https://coreyms.com/tag/gzip\" rel=\"tag\">\n     gzip\n    </a>\n    ,\n    <a href=\"https://coreyms.com/tag/shutil\" rel=\"tag\">\n     shutil\n    </a>\n    ,\n    <a href=\"https://coreyms.com/tag/zip\" rel=\"tag\">\n     zip\n    </a>\n    ,\n    <a href=\"https://coreyms.com/tag/zipfile\" rel=\"tag\">\n     zipfile\n    </a>\n   </span>\n  </p>\n </footer>\n</article>\n\n"
    }
   ],
   "source": [
    "source = r.get('https://coreyms.com/').text # to retreive the HTML text of a webpage \n",
    "soup = BeautifulSoup(source,'lxml') # this become a soup object\n",
    "article = soup.find('article') # this finds the FIRST article tag in the article\n",
    "print(article.prettify())"
   ]
  },
  {
   "cell_type": "code",
   "execution_count": 57,
   "metadata": {
    "tags": []
   },
   "outputs": [
    {
     "output_type": "stream",
     "name": "stdout",
     "text": "Python Tutorial: Zip Files – Creating and Extracting Zip Archives\n"
    }
   ],
   "source": [
    "article = soup.find('article')\n",
    "headline = article.h2.a.text\n",
    "print(headline)"
   ]
  },
  {
   "cell_type": "code",
   "execution_count": 52,
   "metadata": {
    "tags": []
   },
   "outputs": [
    {
     "output_type": "stream",
     "name": "stdout",
     "text": "In this video, we will be learning how to create and extract zip archives. We will start by using the zipfile module, and then we will see how to do this using the shutil module. We will learn how to do this with single files and directories, as well as learning how to use gzip as well. Let’s get started…\n"
    }
   ],
   "source": [
    "summary = article.find('div', class_='entry-content').p.text\n",
    "print(summary)"
   ]
  },
  {
   "cell_type": "code",
   "execution_count": 59,
   "metadata": {
    "tags": []
   },
   "outputs": [
    {
     "output_type": "stream",
     "name": "stdout",
     "text": "<iframe allowfullscreen=\"true\" class=\"youtube-player\" height=\"360\" src=\"https://www.youtube.com/embed/z0gguhEmWiY?version=3&amp;rel=1&amp;fs=1&amp;autohide=2&amp;showsearch=0&amp;showinfo=1&amp;iv_load_policy=1&amp;wmode=transparent\" style=\"border:0;\" width=\"640\"></iframe>\nhttps://www.youtube.com/embed/z0gguhEmWiY?version=3&rel=1&fs=1&autohide=2&showsearch=0&showinfo=1&iv_load_policy=1&wmode=transparent\n"
    }
   ],
   "source": [
    "video_source_tag = article.find('iframe', class_='youtube-player')\n",
    "# the attribute of a tag can be accessed through slicing \n",
    "video_source = article.find('iframe', class_='youtube-player')['src']\n",
    "print(video_source_tag)\n",
    "print(video_source)"
   ]
  },
  {
   "cell_type": "code",
   "execution_count": 63,
   "metadata": {
    "tags": []
   },
   "outputs": [
    {
     "output_type": "stream",
     "name": "stdout",
     "text": "z0gguhEmWiY\n"
    }
   ],
   "source": [
    "video_source_id = video_source.split('/')[4]\n",
    "video_source_id = video_source_id.split('?')[0]\n",
    "print(video_source_id)"
   ]
  },
  {
   "cell_type": "code",
   "execution_count": 64,
   "metadata": {
    "tags": []
   },
   "outputs": [
    {
     "output_type": "stream",
     "name": "stdout",
     "text": "https://youtube.com/watch?v=z0gguhEmWiY\n"
    }
   ],
   "source": [
    "yt_link =f'https://youtube.com/watch?v={video_source_id}'\n",
    "print(yt_link)"
   ]
  },
  {
   "cell_type": "code",
   "execution_count": 74,
   "metadata": {
    "tags": []
   },
   "outputs": [
    {
     "output_type": "stream",
     "name": "stdout",
     "text": "Python Tutorial: Zip Files – Creating and Extracting Zip Archives\nIn this video, we will be learning how to create and extract zip archives. We will start by using the zipfile module, and then we will see how to do this using the shutil module. We will learn how to do this with single files and directories, as well as learning how to use gzip as well. Let’s get started…\nhttps://youtube.com/watch?v=z0gguhEmWiY\n\nPython Data Science Tutorial: Analyzing the 2019 Stack Overflow Developer Survey\nIn this Python Programming video, we will be learning how to download and analyze real-world data from the 2019 Stack Overflow Developer Survey. This is terrific practice for anyone getting into the data science field. We will learn different ways to analyze this data and also some best practices. Let’s get started…\nhttps://youtube.com/watch?v=_P7X8tMplsw\n\nPython Multiprocessing Tutorial: Run Code in Parallel Using the Multiprocessing Module\nIn this Python Programming video, we will be learning how to run code in parallel using the multiprocessing module. We will also look at how to process multiple high-resolution images at the same time using a ProcessPoolExecutor from the concurrent.futures module. Let’s get started…\nhttps://youtube.com/watch?v=fKl2JW_qrso\n\nPython Threading Tutorial: Run Code Concurrently Using the Threading Module\nIn this Python Programming video, we will be learning how to run threads concurrently using the threading module. We will also look at how to download multiple high-resolution images online using a ThreadPoolExecutor from the concurrent.futures module. Let’s get started…\nhttps://youtube.com/watch?v=IEEhzQoKtQU\n\nUpdate (2019-09-03)\nHey everyone. I wanted to give you an update on my videos. I will be releasing videos on threading and multiprocessing within the next week. Thanks so much for your patience. I currently have a temporary recording studio setup at my Airbnb that will allow me to record and edit the threading/multiprocessing videos. I am going to be moving into my new house in 10 days and once I have my recording studio setup then you can expect much faster video releases. I really appreciate how patient everyone has been while I go through this move, especially those of you who are contributing monthly through YouTube \nNone\n\nPython Quick Tip: The Difference Between “==” and “is” (Equality vs Identity)\nIn this Python Programming Tutorial, we will be learning the difference between using “==” and the “is” keyword when doing comparisons. The difference between these is that “==” checks to see if values are equal, and the “is” keyword checks their identity, which means it’s going to check if the values are identical in terms of being the same object in memory. We’ll learn more in the video. Let’s get started…\nhttps://youtube.com/watch?v=mO_dS3rXDIs\n\nPython Tutorial: Calling External Commands Using the Subprocess Module\nIn this Python Programming Tutorial, we will be learning how to run external commands using the subprocess module from the standard library. We will learn how to run commands, capture the output, handle errors, and also how to pipe output into other commands. Let’s get started…\nhttps://youtube.com/watch?v=2Fp1N6dof0Y\n\nVisual Studio Code (Windows) – Setting up a Python Development Environment and Complete Overview\nIn this Python Programming Tutorial, we will be learning how to set up a Python development environment in VSCode on Windows. VSCode is a very nice free editor for writing Python applications and many developers are now switching over to this editor. In this video, we will learn how to install VSCode, get the Python extension installed, how to change Python interpreters, create virtual environments, format/lint our code, how to use Git within VSCode, how to debug our programs, how unit testing works, and more. We have a lot to cover, so let’s go ahead and get started…\nhttps://youtube.com/watch?v=-nh9rCzPJ20\n\nVisual Studio Code (Mac) – Setting up a Python Development Environment and Complete Overview\nIn this Python Programming Tutorial, we will be learning how to set up a Python development environment in VSCode on MacOS. VSCode is a very nice free editor for writing Python applications and many developers are now switching over to this editor. In this video, we will learn how to install VSCode, get the Python extension installed, how to change Python interpreters, create virtual environments, format/lint our code, how to use Git within VSCode, how to debug our programs, how unit testing works, and more. We have a lot to cover, so let’s go ahead and get started…\nhttps://youtube.com/watch?v=06I63_p-2A4\n\nClarifying the Issues with Mutable Default Arguments\nIn this Python Programming Tutorial, we will be clarifying the issues with mutable default arguments. We discussed this in my last video titled “5 Common Python Mistakes and How to Fix Them”, but I received many comments from people who were still confused. So we will be doing a deeper dive to explain exactly what is going on here. Let’s get started…\nhttps://youtube.com/watch?v=_JGmemuINww\n\n"
    }
   ],
   "source": [
    "# Now we can loop through all the information\n",
    "\n",
    "os.chdir(r'C:\\Users\\tanzh\\Documents\\Python\\Other Materials\\web_scraping')\n",
    "\n",
    "\n",
    "csv_file = open('cms_scrape.csv','w') # to create a csv file\n",
    "csv_writer = csv.writer(csv_file)\n",
    "csv_writer.writerow(['headline','summary','video_link']) # we are writing the column header \n",
    "\n",
    "for article in soup.find_all('article'):\n",
    "    try:\n",
    "        headline = article.h2.a.text\n",
    "        summary = article.find('div', class_='entry-content').p.text\n",
    "\n",
    "        video_source = article.find('iframe', class_='youtube-player')['src']\n",
    "        video_source_id = video_source.split('/')[4]\n",
    "        video_source_id = video_source_id.split('?')[0]\n",
    "        yt_link =f'https://youtube.com/watch?v={video_source_id}'\n",
    "\n",
    "        print(headline)\n",
    "        print(summary)\n",
    "\n",
    "    except Exception as e:\n",
    "        print(headline)\n",
    "        print(summary)\n",
    "        yt_link = None\n",
    "\n",
    "    print(yt_link)\n",
    "    print('')\n",
    "\n",
    "    csv_writer.writerow([headline,summary,yt_link])\n",
    "\n",
    "csv_file.close()"
   ]
  },
  {
   "cell_type": "code",
   "execution_count": null,
   "metadata": {},
   "outputs": [],
   "source": [
    "# Alternative "
   ]
  },
  {
   "cell_type": "code",
   "execution_count": 94,
   "metadata": {
    "tags": []
   },
   "outputs": [
    {
     "output_type": "stream",
     "name": "stdout",
     "text": "<article class=\"post-1670 post type-post status-publish format-standard has-post-thumbnail category-development category-python tag-gzip tag-shutil tag-zip tag-zipfile entry\" itemscope=\"\" itemtype=\"https://schema.org/CreativeWork\">\n <header class=\"entry-header\">\n  <h2 class=\"entry-title\" itemprop=\"headline\">\n   <a class=\"entry-title-link\" href=\"https://coreyms.com/development/python/python-tutorial-zip-files-creating-and-extracting-zip-archives\" rel=\"bookmark\">\n    Python Tutorial: Zip Files – Creating and Extracting Zip Archives\n   </a>\n  </h2>\n  <p class=\"entry-meta\">\n   <time class=\"entry-time\" datetime=\"2019-11-19T13:02:37-05:00\" itemprop=\"datePublished\">\n    November 19, 2019\n   </time>\n   by\n   <span class=\"entry-author\" itemprop=\"author\" itemscope=\"\" itemtype=\"https://schema.org/Person\">\n    <a class=\"entry-author-link\" href=\"https://coreyms.com/author/coreymschafer\" itemprop=\"url\" rel=\"author\">\n     <span class=\"entry-author-name\" itemprop=\"name\">\n      Corey Schafer\n     </span>\n    </a>\n   </span>\n   <span class=\"entry-comments-link\">\n    <a href=\"https://coreyms.com/development/python/python-tutorial-zip-files-creating-and-extracting-zip-archives#respond\">\n     <span class=\"dsq-postid\" data-dsqidentifier=\"1670 http://coreyms.com/?p=1670\">\n      Leave a Comment\n     </span>\n    </a>\n   </span>\n  </p>\n </header>\n <div class=\"entry-content\" itemprop=\"text\">\n  <p>\n   In this video, we will be learning how to create and extract zip archives. We will start by using the zipfile module, and then we will see how to do this using the shutil module. We will learn how to do this with single files and directories, as well as learning how to use gzip as well. Let’s get started…\n   <br/>\n  </p>\n  <span class=\"embed-youtube\" style=\"text-align:center; display: block;\">\n   <iframe allowfullscreen=\"true\" class=\"youtube-player\" height=\"360\" src=\"https://www.youtube.com/embed/z0gguhEmWiY?version=3&amp;rel=1&amp;fs=1&amp;autohide=2&amp;showsearch=0&amp;showinfo=1&amp;iv_load_policy=1&amp;wmode=transparent\" style=\"border:0;\" width=\"640\">\n   </iframe>\n  </span>\n </div>\n <footer class=\"entry-footer\">\n  <p class=\"entry-meta\">\n   <span class=\"entry-categories\">\n    Filed Under:\n    <a href=\"https://coreyms.com/category/development\" rel=\"category tag\">\n     Development\n    </a>\n    ,\n    <a href=\"https://coreyms.com/category/development/python\" rel=\"category tag\">\n     Python\n    </a>\n   </span>\n   <span class=\"entry-tags\">\n    Tagged With:\n    <a href=\"https://coreyms.com/tag/gzip\" rel=\"tag\">\n     gzip\n    </a>\n    ,\n    <a href=\"https://coreyms.com/tag/shutil\" rel=\"tag\">\n     shutil\n    </a>\n    ,\n    <a href=\"https://coreyms.com/tag/zip\" rel=\"tag\">\n     zip\n    </a>\n    ,\n    <a href=\"https://coreyms.com/tag/zipfile\" rel=\"tag\">\n     zipfile\n    </a>\n   </span>\n  </p>\n </footer>\n</article>\n\n"
    }
   ],
   "source": [
    "\n",
    "source_html = r.get('https://coreyms.com/').text\n",
    "soup = BeautifulSoup(source_html, 'lxml')\n",
    "\n",
    "article = soup.find('article')\n",
    "print(article.prettify())"
   ]
  },
  {
   "cell_type": "code",
   "execution_count": 91,
   "metadata": {
    "tags": []
   },
   "outputs": [
    {
     "output_type": "stream",
     "name": "stdout",
     "text": "Python Tutorial: Zip Files – Creating and Extracting Zip Archives\n"
    }
   ],
   "source": [
    "headline = article.h2.a.text\n",
    "print(headline)"
   ]
  },
  {
   "cell_type": "code",
   "execution_count": 130,
   "metadata": {
    "tags": []
   },
   "outputs": [
    {
     "output_type": "stream",
     "name": "stdout",
     "text": "2019-11-19\n13:02:37-05:00\n"
    }
   ],
   "source": [
    "date_of_article = article.p.time['datetime'].split('T')[0]\n",
    "time_of_upload = article.p.time['datetime'].split('T')[1]\n",
    "\n",
    "print(date_of_article)\n",
    "print(time_of_upload)"
   ]
  },
  {
   "cell_type": "code",
   "execution_count": 122,
   "metadata": {
    "tags": []
   },
   "outputs": [
    {
     "output_type": "stream",
     "name": "stdout",
     "text": "In this video, we will be learning how to create and extract zip archives. We will start by using the zipfile module, and then we will see how to do this using the shutil module. We will learn how to do this with single files and directories, as well as learning how to use gzip as well. Let’s get started…\n"
    }
   ],
   "source": [
    "summary = article.find('div', class_='entry-content').p.text\n",
    "print(summary)"
   ]
  },
  {
   "cell_type": "code",
   "execution_count": 146,
   "metadata": {
    "tags": []
   },
   "outputs": [
    {
     "output_type": "stream",
     "name": "stdout",
     "text": "https://coreyms.com/development/python/python-tutorial-zip-files-creating-and-extracting-zip-archives\n"
    }
   ],
   "source": [
    "video_link = article.h2.a['href']\n",
    "print(video_link)"
   ]
  },
  {
   "cell_type": "code",
   "execution_count": null,
   "metadata": {},
   "outputs": [],
   "source": [
    "for article in soup.find_all('article'):"
   ]
  },
  {
   "cell_type": "code",
   "execution_count": null,
   "metadata": {},
   "outputs": [],
   "source": []
  },
  {
   "cell_type": "code",
   "execution_count": null,
   "metadata": {},
   "outputs": [],
   "source": []
  },
  {
   "cell_type": "code",
   "execution_count": null,
   "metadata": {},
   "outputs": [],
   "source": []
  },
  {
   "cell_type": "code",
   "execution_count": null,
   "metadata": {},
   "outputs": [],
   "source": []
  },
  {
   "cell_type": "code",
   "execution_count": null,
   "metadata": {},
   "outputs": [],
   "source": []
  },
  {
   "cell_type": "code",
   "execution_count": null,
   "metadata": {},
   "outputs": [],
   "source": []
  },
  {
   "cell_type": "code",
   "execution_count": null,
   "metadata": {},
   "outputs": [],
   "source": []
  },
  {
   "cell_type": "code",
   "execution_count": null,
   "metadata": {},
   "outputs": [],
   "source": []
  },
  {
   "cell_type": "code",
   "execution_count": null,
   "metadata": {},
   "outputs": [],
   "source": []
  },
  {
   "cell_type": "code",
   "execution_count": null,
   "metadata": {},
   "outputs": [],
   "source": []
  }
 ]
}